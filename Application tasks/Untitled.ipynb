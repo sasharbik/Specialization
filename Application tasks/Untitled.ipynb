{
 "cells": [
  {
   "cell_type": "code",
   "execution_count": null,
   "metadata": {},
   "outputs": [],
   "source": [
    "mean0=data[data['default']==0].LIMIT_BAL.mean()\n",
    "mean1=data[data['default']==1].LIMIT_BAL.mean()\n",
    "print(mean0, mean1)\n",
    "ES=mean0/mean1 if mean0>mean1 else mean1/mean0\n",
    "ES\n",
    "\n",
    "mean0=np.mean(median_limit_default0)\n",
    "mean1=np.mean(median_limit_default1)\n",
    "print(mean0, mean1)\n",
    "ES=mean0/mean1 if mean0>mean1 else mean1/mean0\n",
    "ES"
   ]
  },
  {
   "cell_type": "markdown",
   "metadata": {},
   "source": [
    "Вычислим размер эффекта (ES, effect size) для данного случая:\n",
    "$$ES=\\frac{\\mu_1-\\mu_2}{s},$$\n",
    "где $\\mu_1$ - математическое ожидание для первой подвыборки, $\\mu_2$ - математическое ожидание для второй подвыборки, $s$ - стандартное отклонение, основанное на обеих подвыборках."
   ]
  },
  {
   "cell_type": "code",
   "execution_count": null,
   "metadata": {},
   "outputs": [],
   "source": [
    "mean0=data[data['default']==0].AGE.mean()\n",
    "mean1=data[data['default']==1].AGE.mean()\n",
    "print(mean0, mean1)\n",
    "ES=mean0/mean1 if mean0>mean1 else mean1/mean0\n",
    "ES"
   ]
  }
 ],
 "metadata": {
  "kernelspec": {
   "display_name": "Python 3",
   "language": "python",
   "name": "python3"
  },
  "language_info": {
   "codemirror_mode": {
    "name": "ipython",
    "version": 3
   },
   "file_extension": ".py",
   "mimetype": "text/x-python",
   "name": "python",
   "nbconvert_exporter": "python",
   "pygments_lexer": "ipython3",
   "version": "3.7.1"
  }
 },
 "nbformat": 4,
 "nbformat_minor": 4
}
