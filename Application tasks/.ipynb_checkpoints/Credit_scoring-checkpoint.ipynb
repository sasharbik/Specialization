{
 "cells": [
  {
   "cell_type": "markdown",
   "metadata": {},
   "source": [
    "# Кредитный скоринг"
   ]
  },
  {
   "cell_type": "code",
   "execution_count": 1,
   "metadata": {},
   "outputs": [
    {
     "name": "stderr",
     "output_type": "stream",
     "text": [
      "In C:\\Users\\Sandra\\Anaconda3\\lib\\site-packages\\matplotlib\\mpl-data\\stylelib\\_classic_test.mplstyle: \n",
      "The savefig.frameon rcparam was deprecated in Matplotlib 3.1 and will be removed in 3.3.\n",
      "In C:\\Users\\Sandra\\Anaconda3\\lib\\site-packages\\matplotlib\\mpl-data\\stylelib\\_classic_test.mplstyle: \n",
      "The verbose.level rcparam was deprecated in Matplotlib 3.1 and will be removed in 3.3.\n",
      "In C:\\Users\\Sandra\\Anaconda3\\lib\\site-packages\\matplotlib\\mpl-data\\stylelib\\_classic_test.mplstyle: \n",
      "The verbose.fileo rcparam was deprecated in Matplotlib 3.1 and will be removed in 3.3.\n"
     ]
    }
   ],
   "source": [
    "import pandas as pd\n",
    "import numpy as np\n",
    "from statsmodels.stats.weightstats import _tconfint_generic\n",
    "from statsmodels.stats import proportion\n",
    "from scipy import stats\n",
    "import statsmodels.formula.api as smf\n",
    "import statsmodels.stats.api as sms\n",
    "import scipy\n",
    "import matplotlib.pyplot as plt"
   ]
  },
  {
   "cell_type": "code",
   "execution_count": 2,
   "metadata": {},
   "outputs": [
    {
     "data": {
      "text/html": [
       "<div>\n",
       "<style scoped>\n",
       "    .dataframe tbody tr th:only-of-type {\n",
       "        vertical-align: middle;\n",
       "    }\n",
       "\n",
       "    .dataframe tbody tr th {\n",
       "        vertical-align: top;\n",
       "    }\n",
       "\n",
       "    .dataframe thead th {\n",
       "        text-align: right;\n",
       "    }\n",
       "</style>\n",
       "<table border=\"1\" class=\"dataframe\">\n",
       "  <thead>\n",
       "    <tr style=\"text-align: right;\">\n",
       "      <th></th>\n",
       "      <th>ID</th>\n",
       "      <th>LIMIT_BAL</th>\n",
       "      <th>SEX</th>\n",
       "      <th>EDUCATION</th>\n",
       "      <th>MARRIAGE</th>\n",
       "      <th>AGE</th>\n",
       "      <th>PAY_0</th>\n",
       "      <th>PAY_2</th>\n",
       "      <th>PAY_3</th>\n",
       "      <th>PAY_4</th>\n",
       "      <th>...</th>\n",
       "      <th>BILL_AMT4</th>\n",
       "      <th>BILL_AMT5</th>\n",
       "      <th>BILL_AMT6</th>\n",
       "      <th>PAY_AMT1</th>\n",
       "      <th>PAY_AMT2</th>\n",
       "      <th>PAY_AMT3</th>\n",
       "      <th>PAY_AMT4</th>\n",
       "      <th>PAY_AMT5</th>\n",
       "      <th>PAY_AMT6</th>\n",
       "      <th>default</th>\n",
       "    </tr>\n",
       "  </thead>\n",
       "  <tbody>\n",
       "    <tr>\n",
       "      <th>0</th>\n",
       "      <td>1</td>\n",
       "      <td>20000</td>\n",
       "      <td>2</td>\n",
       "      <td>2</td>\n",
       "      <td>1</td>\n",
       "      <td>24</td>\n",
       "      <td>2</td>\n",
       "      <td>2</td>\n",
       "      <td>0</td>\n",
       "      <td>0</td>\n",
       "      <td>...</td>\n",
       "      <td>0</td>\n",
       "      <td>0</td>\n",
       "      <td>0</td>\n",
       "      <td>0</td>\n",
       "      <td>689</td>\n",
       "      <td>0</td>\n",
       "      <td>0</td>\n",
       "      <td>0</td>\n",
       "      <td>0</td>\n",
       "      <td>1</td>\n",
       "    </tr>\n",
       "    <tr>\n",
       "      <th>1</th>\n",
       "      <td>2</td>\n",
       "      <td>120000</td>\n",
       "      <td>2</td>\n",
       "      <td>2</td>\n",
       "      <td>2</td>\n",
       "      <td>26</td>\n",
       "      <td>0</td>\n",
       "      <td>2</td>\n",
       "      <td>0</td>\n",
       "      <td>0</td>\n",
       "      <td>...</td>\n",
       "      <td>3272</td>\n",
       "      <td>3455</td>\n",
       "      <td>3261</td>\n",
       "      <td>0</td>\n",
       "      <td>1000</td>\n",
       "      <td>1000</td>\n",
       "      <td>1000</td>\n",
       "      <td>0</td>\n",
       "      <td>2000</td>\n",
       "      <td>1</td>\n",
       "    </tr>\n",
       "    <tr>\n",
       "      <th>2</th>\n",
       "      <td>3</td>\n",
       "      <td>90000</td>\n",
       "      <td>2</td>\n",
       "      <td>2</td>\n",
       "      <td>2</td>\n",
       "      <td>34</td>\n",
       "      <td>0</td>\n",
       "      <td>0</td>\n",
       "      <td>0</td>\n",
       "      <td>0</td>\n",
       "      <td>...</td>\n",
       "      <td>14331</td>\n",
       "      <td>14948</td>\n",
       "      <td>15549</td>\n",
       "      <td>1518</td>\n",
       "      <td>1500</td>\n",
       "      <td>1000</td>\n",
       "      <td>1000</td>\n",
       "      <td>1000</td>\n",
       "      <td>5000</td>\n",
       "      <td>0</td>\n",
       "    </tr>\n",
       "    <tr>\n",
       "      <th>3</th>\n",
       "      <td>4</td>\n",
       "      <td>50000</td>\n",
       "      <td>2</td>\n",
       "      <td>2</td>\n",
       "      <td>1</td>\n",
       "      <td>37</td>\n",
       "      <td>0</td>\n",
       "      <td>0</td>\n",
       "      <td>0</td>\n",
       "      <td>0</td>\n",
       "      <td>...</td>\n",
       "      <td>28314</td>\n",
       "      <td>28959</td>\n",
       "      <td>29547</td>\n",
       "      <td>2000</td>\n",
       "      <td>2019</td>\n",
       "      <td>1200</td>\n",
       "      <td>1100</td>\n",
       "      <td>1069</td>\n",
       "      <td>1000</td>\n",
       "      <td>0</td>\n",
       "    </tr>\n",
       "    <tr>\n",
       "      <th>4</th>\n",
       "      <td>5</td>\n",
       "      <td>50000</td>\n",
       "      <td>1</td>\n",
       "      <td>2</td>\n",
       "      <td>1</td>\n",
       "      <td>57</td>\n",
       "      <td>0</td>\n",
       "      <td>0</td>\n",
       "      <td>0</td>\n",
       "      <td>0</td>\n",
       "      <td>...</td>\n",
       "      <td>20940</td>\n",
       "      <td>19146</td>\n",
       "      <td>19131</td>\n",
       "      <td>2000</td>\n",
       "      <td>36681</td>\n",
       "      <td>10000</td>\n",
       "      <td>9000</td>\n",
       "      <td>689</td>\n",
       "      <td>679</td>\n",
       "      <td>0</td>\n",
       "    </tr>\n",
       "  </tbody>\n",
       "</table>\n",
       "<p>5 rows × 25 columns</p>\n",
       "</div>"
      ],
      "text/plain": [
       "   ID  LIMIT_BAL  SEX  EDUCATION  MARRIAGE  AGE  PAY_0  PAY_2  PAY_3  PAY_4  \\\n",
       "0   1      20000    2          2         1   24      2      2      0      0   \n",
       "1   2     120000    2          2         2   26      0      2      0      0   \n",
       "2   3      90000    2          2         2   34      0      0      0      0   \n",
       "3   4      50000    2          2         1   37      0      0      0      0   \n",
       "4   5      50000    1          2         1   57      0      0      0      0   \n",
       "\n",
       "   ...  BILL_AMT4  BILL_AMT5  BILL_AMT6  PAY_AMT1  PAY_AMT2  PAY_AMT3  \\\n",
       "0  ...          0          0          0         0       689         0   \n",
       "1  ...       3272       3455       3261         0      1000      1000   \n",
       "2  ...      14331      14948      15549      1518      1500      1000   \n",
       "3  ...      28314      28959      29547      2000      2019      1200   \n",
       "4  ...      20940      19146      19131      2000     36681     10000   \n",
       "\n",
       "   PAY_AMT4  PAY_AMT5  PAY_AMT6  default  \n",
       "0         0         0         0        1  \n",
       "1      1000         0      2000        1  \n",
       "2      1000      1000      5000        0  \n",
       "3      1100      1069      1000        0  \n",
       "4      9000       689       679        0  \n",
       "\n",
       "[5 rows x 25 columns]"
      ]
     },
     "execution_count": 2,
     "metadata": {},
     "output_type": "execute_result"
    }
   ],
   "source": [
    "data=pd.read_csv('data/credit_card_default_analysis.csv', sep=',')\n",
    "data.head()"
   ]
  },
  {
   "cell_type": "markdown",
   "metadata": {},
   "source": [
    "Датасет содержит данные о кредитных историях клиентов одного из банков. Поля в предоставляемых данных имеют следующий смысл:\n",
    "\n",
    "* LIMIT_BAL: размер кредитного лимита (в том числе и на семью клиента);\n",
    "* SEX: пол клиента (1 = мужской, 2 = женский );\n",
    "* EDUCATION: образование (0 = доктор, 1 = магистр; 2 = бакалавр; 3 = выпускник школы; 4 = начальное образование; 5= прочее; 6 = нет данных );\n",
    "* MARRIAGE: (0 = отказываюсь отвечать; 1 = замужем/женат; 2 = холост; 3 = нет данных);\n",
    "* AGE: возраст в годах;\n",
    "* PAY_0 - PAY_6 : История прошлых платежей по кредиту. PAY_6 - платеж в апреле, ... Pay_0 - платеж в сентябре. Платеж = (0 = исправный платеж, 1=задержка в один месяц, 2=задержка в 2 месяца ...);\n",
    "* BILL_AMT1 - BILL_AMT6: задолженность, BILL_AMT6 - на апрель, BILL_AMT1 - на сентябрь;\n",
    "* PAY_AMT1 - PAY_AMT6: сумма уплаченная в PAY_AMT6 - апреле, ..., PAY_AMT1 - сентябре;\n",
    "* default - индикатор невозврата денежных средств."
   ]
  },
  {
   "cell_type": "markdown",
   "metadata": {},
   "source": [
    "По предоставленным историческим данным необходимо оценить влияние определенных признаков на способность заемщика вернуть кредит - на значение переменной _default_.\n",
    "\n",
    "Для начала посмотрим на сбалансированность _default_. "
   ]
  },
  {
   "cell_type": "code",
   "execution_count": 3,
   "metadata": {},
   "outputs": [
    {
     "data": {
      "text/plain": [
       "<matplotlib.axes._subplots.AxesSubplot at 0x2b6890ec470>"
      ]
     },
     "execution_count": 3,
     "metadata": {},
     "output_type": "execute_result"
    },
    {
     "data": {
      "image/png": "[encoded data removed]",
      "text/plain": [
       "<Figure size 432x288 with 1 Axes>"
      ]
     },
     "metadata": {
      "needs_background": "light"
     },
     "output_type": "display_data"
    }
   ],
   "source": [
    "data.default.plot.hist()"
   ]
  },
  {
   "cell_type": "markdown",
   "metadata": {},
   "source": [
    "## 1. Влияние размера кредитного лимита (_LIMIT_BALL_)"
   ]
  },
  {
   "cell_type": "markdown",
   "metadata": {},
   "source": [
    "Начнем наше исследование с изучения влияния на целевую переменную размера кредитног лимита - т.е. влияния _LIMIT_BALL_."
   ]
  },
  {
   "cell_type": "code",
   "execution_count": 4,
   "metadata": {},
   "outputs": [
    {
     "data": {
      "text/plain": [
       "Text(0, 0.5, 'Количество заемщиков')"
      ]
     },
     "execution_count": 4,
     "metadata": {},
     "output_type": "execute_result"
    },
    {
     "data": {
      "image/png": "[encoded data removed]",
      "text/plain": [
       "<Figure size 1080x360 with 2 Axes>"
      ]
     },
     "metadata": {
      "needs_background": "light"
     },
     "output_type": "display_data"
    }
   ],
   "source": [
    "plt.figure(figsize=(15,5))\n",
    "plt.subplot(121)\n",
    "plt.hist(data[data['default']==0].LIMIT_BAL)\n",
    "plt.title('Распределение кредитного лимита\\n среди заемщиков, вернувших кредит')\n",
    "plt.xlabel('Размер кредитного лимита')\n",
    "plt.ylabel('Количество заемщиков')\n",
    "plt.subplot(122)\n",
    "plt.hist(data[data['default']==1].LIMIT_BAL)\n",
    "plt.title('Распределение кредитного лимита\\n среди заемщиков, не вернувших кредит')\n",
    "plt.xlabel('Размер кредитного лимита')\n",
    "plt.ylabel('Количество заемщиков')"
   ]
  },
  {
   "cell_type": "markdown",
   "metadata": {},
   "source": [
    "Оба распределения сильно скошены и отличаются от нормального, что не дает нам право использовать критерии Стьюдента."
   ]
  },
  {
   "cell_type": "markdown",
   "metadata": {},
   "source": [
    "Посмотрим на точечную оценку выборочной медианы размера кридитного лимита для лиц, не имеющих кредитных задолженностей:"
   ]
  },
  {
   "cell_type": "code",
   "execution_count": 5,
   "metadata": {},
   "outputs": [
    {
     "name": "stdout",
     "output_type": "stream",
     "text": [
      "Выборочная медиана размера кредитного лимита для лиц, не имеющих задолженностей:  150000.0\n"
     ]
    }
   ],
   "source": [
    "med0=data[data['default']==0].LIMIT_BAL.median()\n",
    "print('Выборочная медиана размера кредитного лимита для лиц, не имеющих задолженностей: ', med0)"
   ]
  },
  {
   "cell_type": "markdown",
   "metadata": {},
   "source": [
    "Сделаем то же самое для лиц, у которых наблюдаются задолженности."
   ]
  },
  {
   "cell_type": "code",
   "execution_count": 6,
   "metadata": {},
   "outputs": [
    {
     "name": "stdout",
     "output_type": "stream",
     "text": [
      "Выборочная медиана размера кредитного лимита для лиц, имеющих задолженности:  90000.0\n"
     ]
    }
   ],
   "source": [
    "med1=data[data['default']==1].LIMIT_BAL.median()\n",
    "print('Выборочная медиана размера кредитного лимита для лиц, имеющих задолженности: ', med1)"
   ]
  },
  {
   "cell_type": "markdown",
   "metadata": {},
   "source": [
    "Посмотрим на точечную оценку их разности:"
   ]
  },
  {
   "cell_type": "code",
   "execution_count": 7,
   "metadata": {},
   "outputs": [
    {
     "name": "stdout",
     "output_type": "stream",
     "text": [
      "Выборочная оценка разности медиан размера кредитного лимита для лиц без задолженностей и имеющих задолженности: 60000.0000\n"
     ]
    }
   ],
   "source": [
    "print('Выборочная оценка разности медиан размера кредитного лимита для лиц без задолженностей и \\\n",
    "имеющих задолженности: %.4f'%(med0-med1))"
   ]
  },
  {
   "cell_type": "markdown",
   "metadata": {},
   "source": [
    "Построим доверительный интервал для этой разности на основе бутстрапированных выборок."
   ]
  },
  {
   "cell_type": "code",
   "execution_count": 8,
   "metadata": {},
   "outputs": [],
   "source": [
    "def get_bootstrap_samples(data, n_samples):\n",
    "    indices = np.random.randint(0, len(data), (n_samples, len(data)))\n",
    "    samples = data[indices]\n",
    "    return samples"
   ]
  },
  {
   "cell_type": "code",
   "execution_count": 9,
   "metadata": {},
   "outputs": [],
   "source": [
    "def stat_intervals(stat, alpha):\n",
    "    boundaries = np.quantile(stat, [alpha / 2., (1 - alpha / 2.)])\n",
    "    return (boundaries[0], boundaries[1])"
   ]
  },
  {
   "cell_type": "code",
   "execution_count": 10,
   "metadata": {},
   "outputs": [
    {
     "name": "stdout",
     "output_type": "stream",
     "text": [
      "95% доверительный интервал для разности медиан:[60000.0000, 70000.0000]\n"
     ]
    }
   ],
   "source": [
    "median_limit_default0=list(map(np.median, get_bootstrap_samples(data[data['default']==0].LIMIT_BAL.values,1000)))\n",
    "median_limit_default1=list(map(np.median, get_bootstrap_samples(data[data['default']==1].LIMIT_BAL.values,1000)))\n",
    "delta_median_limit=list(map(lambda x: x[0]-x[1], \\\n",
    "                            zip(median_limit_default0, median_limit_default1)))\n",
    "print('95%% доверительный интервал для разности медиан:[%.4f, %.4f]'%stat_intervals(delta_median_limit,0.05))"
   ]
  },
  {
   "cell_type": "markdown",
   "metadata": {},
   "source": [
    "Видим, что полученный интервал лежит справа от нуля, что дает уверенность в том, что медианное значение кредитного лимита среди людей, не имеющих задолженностей, больше, чем среди тех, у кого наблюдается задолженность. Этот результат имеет практическую значимость."
   ]
  },
  {
   "cell_type": "markdown",
   "metadata": {},
   "source": [
    "Проверим гипотезу о равенстве медианных значений по этим двум подвыборкам.\n",
    "\n",
    "$H_0$: медианные значения кредитного лимита для этих двух подвыборок равны.\n",
    "\n",
    "$H_1$: не равны.\n",
    "\n",
    "Необходимые подвыборки независимые, поэтому для проверки данной гипотезы будем использовать двухвыборочный критерий знаковых рангов (Манна-Уитни)."
   ]
  },
  {
   "cell_type": "code",
   "execution_count": 11,
   "metadata": {},
   "outputs": [
    {
     "data": {
      "text/plain": [
       "MannwhitneyuResult(statistic=95786286.5, pvalue=1.2255485818223303e-189)"
      ]
     },
     "execution_count": 11,
     "metadata": {},
     "output_type": "execute_result"
    }
   ],
   "source": [
    "stats.mannwhitneyu(data[data['default']==0].LIMIT_BAL,data[data['default']==1].LIMIT_BAL, alternative='two-sided')"
   ]
  },
  {
   "cell_type": "markdown",
   "metadata": {},
   "source": [
    "Достигаемый уровень значимости очень мал, что позволяет с увереностью отвергнуть нулевую гипотезу в пользу двусторонней альтернативы."
   ]
  },
  {
   "cell_type": "markdown",
   "metadata": {},
   "source": [
    "## 2. Влияние пола (_SEX_)"
   ]
  },
  {
   "cell_type": "markdown",
   "metadata": {},
   "source": [
    "В наших данных признак _SEX_ является категориальным, заменим его бинарным признаком _FEMALE_."
   ]
  },
  {
   "cell_type": "code",
   "execution_count": 12,
   "metadata": {},
   "outputs": [],
   "source": [
    "data['female']=data.SEX.apply(lambda x: 0 if x==1 else 1)\n",
    "data.drop('SEX', axis=1, inplace=True)"
   ]
  },
  {
   "cell_type": "code",
   "execution_count": 13,
   "metadata": {},
   "outputs": [
    {
     "data": {
      "text/plain": [
       "Text(0, 0.5, 'Количество заемщиков')"
      ]
     },
     "execution_count": 13,
     "metadata": {},
     "output_type": "execute_result"
    },
    {
     "data": {
      "image/png": "[encoded data removed]",
      "text/plain": [
       "<Figure size 1080x360 with 2 Axes>"
      ]
     },
     "metadata": {
      "needs_background": "light"
     },
     "output_type": "display_data"
    }
   ],
   "source": [
    "plt.figure(figsize=(15,5))\n",
    "plt.subplot(121)\n",
    "plt.hist(data[data['default']==0].female)\n",
    "plt.title('Гендерное распределение\\n среди заемщиков, вернувших кредит')\n",
    "plt.xlabel('Пол')\n",
    "plt.ylabel('Количество заемщиков')\n",
    "plt.subplot(122)\n",
    "plt.hist(data[data['default']==1].female)\n",
    "plt.title('Гендерное распределение\\n среди заемщиков, не вернувших кредит')\n",
    "plt.xlabel('Пол')\n",
    "plt.ylabel('Количество заемщиков')"
   ]
  },
  {
   "cell_type": "markdown",
   "metadata": {},
   "source": [
    "По графикам видно, что гендерное соотношение в подвыборках похоже, однако визуально среди не вернувших кредит доля мужчин больше. Проверим это с помощью интервальной оценки разности долей женщин в обеих подвыборках."
   ]
  },
  {
   "cell_type": "code",
   "execution_count": 14,
   "metadata": {},
   "outputs": [
    {
     "name": "stdout",
     "output_type": "stream",
     "text": [
      "Выборочная доля женщин среди не имеющих задолженности:  0.6141499743194658\n",
      "Выборочная доля женщин среди имеющих задолженности:  0.5670584689572031\n",
      "Точечная оценка разности долей женщин:  0.0470915053622627\n"
     ]
    }
   ],
   "source": [
    "n_fem0=np.sum(data[data['default']==0].female)\n",
    "n_fem1=np.sum(data[data['default']==1].female)\n",
    "frac_fem_default0=n_fem0/data[data['default']==0].female.shape[0]\n",
    "frac_fem_default1=n_fem1/data[data['default']==1].female.shape[0]\n",
    "print('Выборочная доля женщин среди не имеющих задолженности: ',frac_fem_default0)\n",
    "print('Выборочная доля женщин среди имеющих задолженности: ',frac_fem_default1)\n",
    "print('Точечная оценка разности долей женщин: ',frac_fem_default0-frac_fem_default1)"
   ]
  },
  {
   "cell_type": "code",
   "execution_count": 15,
   "metadata": {},
   "outputs": [
    {
     "name": "stdout",
     "output_type": "stream",
     "text": [
      "95% доверительный интервал для разности долей женщин в обеих подвыборках: [0.0337, 0.0606]\n"
     ]
    }
   ],
   "source": [
    "interval=proportion.confint_proportions_2indep(n_fem0, data[data['default']==0].female.shape[0], \\\n",
    "                                      n_fem1, data[data['default']==1].female.shape[0])\n",
    "print('95%% доверительный интервал для разности долей женщин в обеих подвыборках: [%.4f, %.4f]'%interval)"
   ]
  },
  {
   "cell_type": "markdown",
   "metadata": {},
   "source": [
    "Доверительный интервал лежит справа от нуля, что говорит с 95% вероятностью о том, что доля женщин среди вернувших кредит больше, чем среди женщин с задолженностями. Из этого же следует, что доля мужчин, среди имеющих задолженности, больше, чем среди не имеющих.\n",
    "\n",
    "Проверим результат с помощью статистического критерия - двухвыборочного z-критерия для доли для независимых выборок.\n",
    "\n",
    "$H_0$: доли женщин в обоих подвыборках одинаковы.\n",
    "\n",
    "$H_1$: доли женщин отличаются. Альтернативная гипотеза выбирается в данном случае двусторонней, так как она должна выбираться только на основе логических предположений, а не исходя из данных. Так как у нас нет логических оснований предполагать уменьшение или увеличение доли женщин в одной из подвыборок, то и было принято решение проверять просто неравенство двух этих долей."
   ]
  },
  {
   "cell_type": "code",
   "execution_count": 16,
   "metadata": {},
   "outputs": [
    {
     "name": "stdout",
     "output_type": "stream",
     "text": [
      "p-value для нулевой гипотезы о равенстве долей женщин в обеих подвыборках:  6.9379488648039966e-12\n"
     ]
    }
   ],
   "source": [
    "stat=proportion.test_proportions_2indep(n_fem0, data[data['default']==0].female.shape[0], \\\n",
    "                                      n_fem1, data[data['default']==1].female.shape[0], method='wald')\n",
    "print('p-value для нулевой гипотезы о равенстве долей женщин в обеих подвыборках: ',stat[1])"
   ]
  },
  {
   "cell_type": "markdown",
   "metadata": {},
   "source": [
    "Достигаемый уровень значимости очень мал, благодаря чему мы можем отвергнуть нулевую гипотезу в пользу двусторонней альтернативы."
   ]
  },
  {
   "cell_type": "code",
   "execution_count": 17,
   "metadata": {},
   "outputs": [
    {
     "name": "stdout",
     "output_type": "stream",
     "text": [
      "p-value:  4.472866521609831e-12\n"
     ]
    }
   ],
   "source": [
    "#в реализации функции proportion.test_proportion_2indep() z-статистика вычисляется не совсем так, как это давалось в лекциях,\n",
    "#поэтому на всякий случай для проверки данных гипотез были использованы и пользовательские функции,которые также выдают\n",
    "#p-value, позволяющий отвергнуть нулевую гипотезу в пользу двусторонней альтернативы. \n",
    "def proportions_diff_z_stat_ind(sample1, sample2):\n",
    "    n1 = len(sample1)\n",
    "    n2 = len(sample2)\n",
    "    \n",
    "    p1 = float(sum(sample1)) / n1\n",
    "    p2 = float(sum(sample2)) / n2 \n",
    "    P = float(p1*n1 + p2*n2) / (n1 + n2)\n",
    "    return (p1 - p2) / np.sqrt(P * (1 - P) * (1. / n1 + 1. / n2))\n",
    "\n",
    "def proportions_diff_z_test(z_stat, alternative = 'two-sided'):\n",
    "    if alternative not in ('two-sided', 'less', 'greater'):\n",
    "        raise ValueError(\"alternative not recognized\\n\"\n",
    "                         \"should be 'two-sided', 'less' or 'greater'\")\n",
    "    \n",
    "    if alternative == 'two-sided':\n",
    "        return 2 * (1 - scipy.stats.norm.cdf(np.abs(z_stat)))\n",
    "    \n",
    "    if alternative == 'less':\n",
    "        return scipy.stats.norm.cdf(z_stat)\n",
    "\n",
    "    if alternative == 'greater':\n",
    "        return 1 - scipy.stats.norm.cdf(z_stat)\n",
    "    \n",
    "print(\"p-value: \",proportions_diff_z_test(proportions_diff_z_stat_ind(data[data['default']==0].female, \\\n",
    "                                                                          data[data['default']==1].female)))\n"
   ]
  },
  {
   "cell_type": "markdown",
   "metadata": {},
   "source": [
    "## 3. Влияние образования (_EDUCATION_)"
   ]
  },
  {
   "cell_type": "code",
   "execution_count": 18,
   "metadata": {},
   "outputs": [
    {
     "data": {
      "text/plain": [
       "Text(0, 0.5, 'Количество заемщиков')"
      ]
     },
     "execution_count": 18,
     "metadata": {},
     "output_type": "execute_result"
    },
    {
     "data": {
      "image/png": "[encoded data removed]",
      "text/plain": [
       "<Figure size 1080x360 with 2 Axes>"
      ]
     },
     "metadata": {
      "needs_background": "light"
     },
     "output_type": "display_data"
    }
   ],
   "source": [
    "plt.figure(figsize=(15,5))\n",
    "plt.subplot(121)\n",
    "plt.hist(data[data['default']==0].EDUCATION)\n",
    "plt.title('Распределение уровней образования\\n среди заемщиков, вернувших кредит')\n",
    "plt.xlabel('Уровень образования')\n",
    "plt.ylabel('Количество заемщиков')\n",
    "plt.subplot(122)\n",
    "plt.hist(data[data['default']==1].EDUCATION)\n",
    "plt.title('Распределение уровней образования\\n среди заемщиков, не вернувших кредит')\n",
    "plt.xlabel('Уровень образования')\n",
    "plt.ylabel('Количество заемщиков')"
   ]
  },
  {
   "cell_type": "code",
   "execution_count": 19,
   "metadata": {},
   "outputs": [
    {
     "data": {
      "text/plain": [
       "2    10700\n",
       "1     8549\n",
       "3     3680\n",
       "5      262\n",
       "4      116\n",
       "6       43\n",
       "0       14\n",
       "Name: EDUCATION, dtype: int64"
      ]
     },
     "execution_count": 19,
     "metadata": {},
     "output_type": "execute_result"
    }
   ],
   "source": [
    "data[data['default']==0].EDUCATION.value_counts()"
   ]
  },
  {
   "cell_type": "code",
   "execution_count": 20,
   "metadata": {},
   "outputs": [
    {
     "data": {
      "text/plain": [
       "2    3330\n",
       "1    2036\n",
       "3    1237\n",
       "5      18\n",
       "6       8\n",
       "4       7\n",
       "Name: EDUCATION, dtype: int64"
      ]
     },
     "execution_count": 20,
     "metadata": {},
     "output_type": "execute_result"
    }
   ],
   "source": [
    "data[data['default']==1].EDUCATION.value_counts()"
   ]
  },
  {
   "cell_type": "markdown",
   "metadata": {},
   "source": [
    "Видим, что в обеих подвыборках преобладает доля людей с уровнем образования \"2\". При этом в той и другой подвыборках присутсвует относительно мало людей с уровнями образования \"4\", \"5\", \"6\". Люди с уровнем образования \"0\" присутствуют только среди вернувших кредит."
   ]
  },
  {
   "cell_type": "markdown",
   "metadata": {},
   "source": [
    "Проверим гипотезу о том, что образование не влияет на то, вернет ли человек долг.\n",
    "\n",
    "Взаимосвязь интересующих нас признаков (_default_ и _EDUCATION_) будем проверять с помощью коэффициента корреляции. Так как признак _EDUCATION_ является категориальным, а признак _default_ бинарным, то корреляция вычисляется с помощью коэффициента Крамера. Данный коэффициент вычисляется на основе таблицы сопряженности, где каждый элемент $a_{ij}$ означает количество элементов, для которых признак _EDUCATION_ принимает значение _j_, а признак _default_ принимает значение _i_."
   ]
  },
  {
   "cell_type": "code",
   "execution_count": 21,
   "metadata": {},
   "outputs": [
    {
     "name": "stdout",
     "output_type": "stream",
     "text": [
      "default        0     1\n",
      "EDUCATION             \n",
      "0             14     0\n",
      "1           8549  2036\n",
      "2          10700  3330\n",
      "3           3680  1237\n",
      "4            116     7\n",
      "5            262    18\n",
      "6             43     8\n"
     ]
    }
   ],
   "source": [
    "contingency_table_edu=pd.crosstab(data.EDUCATION, data.default)\n",
    "print(contingency_table_edu)"
   ]
  },
  {
   "cell_type": "code",
   "execution_count": 22,
   "metadata": {},
   "outputs": [
    {
     "name": "stdout",
     "output_type": "stream",
     "text": [
      "Коэффициент Крамера для данной таблицы сопряженности: 0.0737601\n"
     ]
    }
   ],
   "source": [
    "k1=data.EDUCATION.unique().shape[0]\n",
    "k2=data.default.unique().shape[0]\n",
    "v_cramer=np.sqrt(stats.chi2_contingency(contingency_table_edu)[0]/(data.shape[0]*(np.min([k1,k2])-1)))\n",
    "print('Коэффициент Крамера для данной таблицы сопряженности: %g'%v_cramer)"
   ]
  },
  {
   "cell_type": "markdown",
   "metadata": {},
   "source": [
    "Значимость полученного коэффициента корреляции проверим с помощью критерия $\\chi^2$ с числом степеней свободы (k1-1)(k2-1).\n",
    "\n",
    "$H_0$: образование не влияет на возврат долга (коэффициент V Крамера равен нулю).\n",
    "\n",
    "$H_1$: образование влияет на возврат долга (коэффициент V Крамера отличен от нуля)."
   ]
  },
  {
   "cell_type": "code",
   "execution_count": 23,
   "metadata": {},
   "outputs": [
    {
     "name": "stdout",
     "output_type": "stream",
     "text": [
      "Достигаемый уровень значимости 1.23326e-32\n"
     ]
    }
   ],
   "source": [
    "print('Достигаемый уровень значимости %g'%stats.chi2_contingency(contingency_table_edu)[1])"
   ]
  },
  {
   "cell_type": "markdown",
   "metadata": {},
   "source": [
    "p-value очень мал, поэтому нулевая гипотеза о незначимости образования для определения значения _default_ отвергается в пользу двусторонней альтернативы."
   ]
  },
  {
   "cell_type": "code",
   "execution_count": 24,
   "metadata": {},
   "outputs": [
    {
     "data": {
      "text/plain": [
       "array([[   10,     3],\n",
       "       [ 8243,  2341],\n",
       "       [10926,  3103],\n",
       "       [ 3829,  1087],\n",
       "       [   95,    27],\n",
       "       [  218,    61],\n",
       "       [   39,    11]])"
      ]
     },
     "execution_count": 24,
     "metadata": {},
     "output_type": "execute_result"
    }
   ],
   "source": [
    "expected=np.floor(stats.chi2_contingency(contingency_table_edu)[3])\n",
    "expected=np.array([list(map(int,x)) for x in expected])\n",
    "expected"
   ]
  },
  {
   "cell_type": "code",
   "execution_count": 25,
   "metadata": {},
   "outputs": [
    {
     "data": {
      "text/html": [
       "<div>\n",
       "<style scoped>\n",
       "    .dataframe tbody tr th:only-of-type {\n",
       "        vertical-align: middle;\n",
       "    }\n",
       "\n",
       "    .dataframe tbody tr th {\n",
       "        vertical-align: top;\n",
       "    }\n",
       "\n",
       "    .dataframe thead th {\n",
       "        text-align: right;\n",
       "    }\n",
       "</style>\n",
       "<table border=\"1\" class=\"dataframe\">\n",
       "  <thead>\n",
       "    <tr style=\"text-align: right;\">\n",
       "      <th></th>\n",
       "      <th>real_0</th>\n",
       "      <th>real_1</th>\n",
       "      <th>exp_0</th>\n",
       "      <th>exp_1</th>\n",
       "      <th>dif_0</th>\n",
       "      <th>dif_1</th>\n",
       "    </tr>\n",
       "    <tr>\n",
       "      <th>EDUCATION</th>\n",
       "      <th></th>\n",
       "      <th></th>\n",
       "      <th></th>\n",
       "      <th></th>\n",
       "      <th></th>\n",
       "      <th></th>\n",
       "    </tr>\n",
       "  </thead>\n",
       "  <tbody>\n",
       "    <tr>\n",
       "      <th>0</th>\n",
       "      <td>14</td>\n",
       "      <td>0</td>\n",
       "      <td>10</td>\n",
       "      <td>3</td>\n",
       "      <td>4</td>\n",
       "      <td>-3</td>\n",
       "    </tr>\n",
       "    <tr>\n",
       "      <th>1</th>\n",
       "      <td>8549</td>\n",
       "      <td>2036</td>\n",
       "      <td>8243</td>\n",
       "      <td>2341</td>\n",
       "      <td>306</td>\n",
       "      <td>-305</td>\n",
       "    </tr>\n",
       "    <tr>\n",
       "      <th>2</th>\n",
       "      <td>10700</td>\n",
       "      <td>3330</td>\n",
       "      <td>10926</td>\n",
       "      <td>3103</td>\n",
       "      <td>-226</td>\n",
       "      <td>227</td>\n",
       "    </tr>\n",
       "    <tr>\n",
       "      <th>3</th>\n",
       "      <td>3680</td>\n",
       "      <td>1237</td>\n",
       "      <td>3829</td>\n",
       "      <td>1087</td>\n",
       "      <td>-149</td>\n",
       "      <td>150</td>\n",
       "    </tr>\n",
       "    <tr>\n",
       "      <th>4</th>\n",
       "      <td>116</td>\n",
       "      <td>7</td>\n",
       "      <td>95</td>\n",
       "      <td>27</td>\n",
       "      <td>21</td>\n",
       "      <td>-20</td>\n",
       "    </tr>\n",
       "    <tr>\n",
       "      <th>5</th>\n",
       "      <td>262</td>\n",
       "      <td>18</td>\n",
       "      <td>218</td>\n",
       "      <td>61</td>\n",
       "      <td>44</td>\n",
       "      <td>-43</td>\n",
       "    </tr>\n",
       "    <tr>\n",
       "      <th>6</th>\n",
       "      <td>43</td>\n",
       "      <td>8</td>\n",
       "      <td>39</td>\n",
       "      <td>11</td>\n",
       "      <td>4</td>\n",
       "      <td>-3</td>\n",
       "    </tr>\n",
       "  </tbody>\n",
       "</table>\n",
       "</div>"
      ],
      "text/plain": [
       "           real_0  real_1  exp_0  exp_1  dif_0  dif_1\n",
       "EDUCATION                                            \n",
       "0              14       0     10      3      4     -3\n",
       "1            8549    2036   8243   2341    306   -305\n",
       "2           10700    3330  10926   3103   -226    227\n",
       "3            3680    1237   3829   1087   -149    150\n",
       "4             116       7     95     27     21    -20\n",
       "5             262      18    218     61     44    -43\n",
       "6              43       8     39     11      4     -3"
      ]
     },
     "execution_count": 25,
     "metadata": {},
     "output_type": "execute_result"
    }
   ],
   "source": [
    "def new_table(contingency_table,exp):\n",
    "    dif0=contingency_table[0].values-exp[:,0]\n",
    "    dif1=contingency_table[1].values-exp[:,1]\n",
    "    df=pd.DataFrame({'real_0': contingency_table[0],\n",
    "                    'real_1': contingency_table[1],\n",
    "                    'exp_0': exp[:,0],\n",
    "                    'exp_1': exp[:,1],\n",
    "                    'dif_0': dif0,\n",
    "                    'dif_1': dif1})\n",
    "    return df\n",
    "    \n",
    "results=new_table(contingency_table_edu,expected)\n",
    "results"
   ]
  },
  {
   "cell_type": "markdown",
   "metadata": {},
   "source": [
    "Видно, что колонки _dif_0_ и _dif_1_ имеют почти одинаковые значения по модулю и противоположны по знаку.\n",
    "\n",
    "Для масштабирования таблицы можно применить процедуру стандартизации: она осуществляется посредством вычета из каждого признака среднего значения и нормировки на стандартное отклонение."
   ]
  },
  {
   "cell_type": "code",
   "execution_count": 26,
   "metadata": {},
   "outputs": [
    {
     "data": {
      "text/html": [
       "<div>\n",
       "<style scoped>\n",
       "    .dataframe tbody tr th:only-of-type {\n",
       "        vertical-align: middle;\n",
       "    }\n",
       "\n",
       "    .dataframe tbody tr th {\n",
       "        vertical-align: top;\n",
       "    }\n",
       "\n",
       "    .dataframe thead th {\n",
       "        text-align: right;\n",
       "    }\n",
       "</style>\n",
       "<table border=\"1\" class=\"dataframe\">\n",
       "  <thead>\n",
       "    <tr style=\"text-align: right;\">\n",
       "      <th></th>\n",
       "      <th>real_0</th>\n",
       "      <th>real_1</th>\n",
       "      <th>exp_0</th>\n",
       "      <th>exp_1</th>\n",
       "      <th>dif_0</th>\n",
       "      <th>dif_1</th>\n",
       "    </tr>\n",
       "    <tr>\n",
       "      <th>EDUCATION</th>\n",
       "      <th></th>\n",
       "      <th></th>\n",
       "      <th></th>\n",
       "      <th></th>\n",
       "      <th></th>\n",
       "      <th></th>\n",
       "    </tr>\n",
       "  </thead>\n",
       "  <tbody>\n",
       "    <tr>\n",
       "      <th>0</th>\n",
       "      <td>-0.733431</td>\n",
       "      <td>-0.717514</td>\n",
       "      <td>-0.731613</td>\n",
       "      <td>-0.731304</td>\n",
       "      <td>0.020410</td>\n",
       "      <td>-0.020410</td>\n",
       "    </tr>\n",
       "    <tr>\n",
       "      <th>1</th>\n",
       "      <td>1.149954</td>\n",
       "      <td>0.823476</td>\n",
       "      <td>1.078761</td>\n",
       "      <td>1.078817</td>\n",
       "      <td>1.818158</td>\n",
       "      <td>-1.818158</td>\n",
       "    </tr>\n",
       "    <tr>\n",
       "      <th>2</th>\n",
       "      <td>1.624607</td>\n",
       "      <td>1.802867</td>\n",
       "      <td>1.668732</td>\n",
       "      <td>1.668770</td>\n",
       "      <td>-1.348736</td>\n",
       "      <td>1.348736</td>\n",
       "    </tr>\n",
       "    <tr>\n",
       "      <th>3</th>\n",
       "      <td>0.075531</td>\n",
       "      <td>0.218736</td>\n",
       "      <td>0.108156</td>\n",
       "      <td>0.107948</td>\n",
       "      <td>-0.890370</td>\n",
       "      <td>0.890370</td>\n",
       "    </tr>\n",
       "    <tr>\n",
       "      <th>4</th>\n",
       "      <td>-0.710923</td>\n",
       "      <td>-0.712216</td>\n",
       "      <td>-0.712923</td>\n",
       "      <td>-0.712722</td>\n",
       "      <td>0.121607</td>\n",
       "      <td>-0.121607</td>\n",
       "    </tr>\n",
       "    <tr>\n",
       "      <th>5</th>\n",
       "      <td>-0.678706</td>\n",
       "      <td>-0.703890</td>\n",
       "      <td>-0.685876</td>\n",
       "      <td>-0.686399</td>\n",
       "      <td>0.258522</td>\n",
       "      <td>-0.258522</td>\n",
       "    </tr>\n",
       "    <tr>\n",
       "      <th>6</th>\n",
       "      <td>-0.727032</td>\n",
       "      <td>-0.711459</td>\n",
       "      <td>-0.725237</td>\n",
       "      <td>-0.725110</td>\n",
       "      <td>0.020410</td>\n",
       "      <td>-0.020410</td>\n",
       "    </tr>\n",
       "  </tbody>\n",
       "</table>\n",
       "</div>"
      ],
      "text/plain": [
       "             real_0    real_1     exp_0     exp_1     dif_0     dif_1\n",
       "EDUCATION                                                            \n",
       "0         -0.733431 -0.717514 -0.731613 -0.731304  0.020410 -0.020410\n",
       "1          1.149954  0.823476  1.078761  1.078817  1.818158 -1.818158\n",
       "2          1.624607  1.802867  1.668732  1.668770 -1.348736  1.348736\n",
       "3          0.075531  0.218736  0.108156  0.107948 -0.890370  0.890370\n",
       "4         -0.710923 -0.712216 -0.712923 -0.712722  0.121607 -0.121607\n",
       "5         -0.678706 -0.703890 -0.685876 -0.686399  0.258522 -0.258522\n",
       "6         -0.727032 -0.711459 -0.725237 -0.725110  0.020410 -0.020410"
      ]
     },
     "execution_count": 26,
     "metadata": {},
     "output_type": "execute_result"
    }
   ],
   "source": [
    "results.apply(lambda col: (col-col.mean())/col.std(),axis=0)"
   ]
  },
  {
   "cell_type": "markdown",
   "metadata": {},
   "source": [
    "Наиболее сильно выраженные значения имеют уровни образования \"1\", \"2\" и \"3\".\n",
    "\n",
    "Получается, что образование уровня \"1\" является индикатором того, что реальное количество людей, вернувших кредит, больше, чем их ожидаемое значение, и наоборот для должников. То есть этот уровень образования является хорошим показателем, он может в какой-то степени гарантировать добросовестность заемщика. \n",
    "\n",
    "Образование уровня \"2\" говорит о том, что реальное количество заемщиков, вернувших кредит, было меньше, чем их ожидаемое значение, а реальное количество должников - больше по сравнению с предсказанием для них. Значит, можно считать этот уровень образования - отрицательным показателем для выдачи кредита. \n",
    "\n",
    "Аналогично рассуждая об уровне \"3\", делаем вывод, что это также \"плохой\" уровень образования для выдачи кредита.\n",
    "\n",
    "Тогда в последующей модели логистической регрессии для вынесения вердикта о выдаче или невыдаче кредита можно поставить уровню образования \"1\" положительный коэффициент, уровням \"2\" и \"3\" - отрицательные, где коэффициент для \"2\" будет больше по модулю."
   ]
  },
  {
   "cell_type": "markdown",
   "metadata": {},
   "source": [
    "## 4. Влияние семейного положения (_MARRIAGE_)"
   ]
  },
  {
   "cell_type": "code",
   "execution_count": 27,
   "metadata": {},
   "outputs": [
    {
     "data": {
      "text/plain": [
       "Text(0, 0.5, 'Количество заемщиков')"
      ]
     },
     "execution_count": 27,
     "metadata": {},
     "output_type": "execute_result"
    },
    {
     "data": {
      "image/png": "[encoded data removed]",
      "text/plain": [
       "<Figure size 1080x360 with 2 Axes>"
      ]
     },
     "metadata": {
      "needs_background": "light"
     },
     "output_type": "display_data"
    }
   ],
   "source": [
    "plt.figure(figsize=(15,5))\n",
    "plt.subplot(121)\n",
    "plt.hist(data[data['default']==0].MARRIAGE)\n",
    "plt.title('Распределение статусов семейного положения\\n среди заемщиков, вернувших кредит')\n",
    "plt.xlabel('Семейное положение')\n",
    "plt.ylabel('Количество заемщиков')\n",
    "plt.subplot(122)\n",
    "plt.hist(data[data['default']==1].MARRIAGE)\n",
    "plt.title('Распределение статусов семейного положения\\n среди заемщиков, не вернувших кредит')\n",
    "plt.xlabel('Семейное положение')\n",
    "plt.ylabel('Количество заемщиков')"
   ]
  },
  {
   "cell_type": "markdown",
   "metadata": {},
   "source": [
    "По графикам видно, что соотношение разных семейных статусов в обеих подвыборках очень похоже."
   ]
  },
  {
   "cell_type": "markdown",
   "metadata": {},
   "source": [
    "Ситуация с признаком _MARRIAGE_ аналогична пункту 3 - снова имеем категориальный и бинарный признаки. Составим для них таблицу сопряженности, посчитаем коэффициент Крамера и определим его статистическую значимость с помощью критерия $\\chi^2_{(k1-1)(k2-1)}$."
   ]
  },
  {
   "cell_type": "code",
   "execution_count": 28,
   "metadata": {},
   "outputs": [
    {
     "name": "stdout",
     "output_type": "stream",
     "text": [
      "default       0     1\n",
      "MARRIAGE             \n",
      "0            49     5\n",
      "1         10453  3206\n",
      "2         12623  3341\n",
      "3           239    84\n"
     ]
    }
   ],
   "source": [
    "contingency_table_marriage=pd.crosstab(data.MARRIAGE, data.default)\n",
    "print(contingency_table_marriage)"
   ]
  },
  {
   "cell_type": "code",
   "execution_count": 29,
   "metadata": {},
   "outputs": [
    {
     "name": "stdout",
     "output_type": "stream",
     "text": [
      "Коэффициент Крамера для данной таблицы сопряженности: 0.0344782\n"
     ]
    }
   ],
   "source": [
    "k1=data.MARRIAGE.unique().shape[0]\n",
    "k2=data.default.unique().shape[0]\n",
    "v_cramer=np.sqrt(stats.chi2_contingency(contingency_table_marriage)[0]/(data.shape[0]*(np.min([k1,k2])-1)))\n",
    "print('Коэффициент Крамера для данной таблицы сопряженности: %g'%v_cramer)"
   ]
  },
  {
   "cell_type": "markdown",
   "metadata": {},
   "source": [
    "$H_0$: семейное положение не влияет на возврат долга (коэффициент V Крамера равен нулю).\n",
    "\n",
    "$H_1$: семейное положение влияет на возврат долга (коэффициент V Крамера не равен нулю)."
   ]
  },
  {
   "cell_type": "code",
   "execution_count": 30,
   "metadata": {},
   "outputs": [
    {
     "name": "stdout",
     "output_type": "stream",
     "text": [
      "Достигаемый уровень значимости 8.82586e-08\n"
     ]
    }
   ],
   "source": [
    "print('Достигаемый уровень значимости %g'%stats.chi2_contingency(contingency_table_marriage)[1])"
   ]
  },
  {
   "cell_type": "markdown",
   "metadata": {},
   "source": [
    "Полученный p-value позволяет отвергнуть нулевую гипотезу в пользу двусторонней альтернативы."
   ]
  },
  {
   "cell_type": "markdown",
   "metadata": {},
   "source": [
    "## 5. Влияние возраста (_AGE_)"
   ]
  },
  {
   "cell_type": "code",
   "execution_count": 31,
   "metadata": {},
   "outputs": [
    {
     "data": {
      "text/plain": [
       "Text(0, 0.5, 'Количество заемщиков')"
      ]
     },
     "execution_count": 31,
     "metadata": {},
     "output_type": "execute_result"
    },
    {
     "data": {
      "image/png": "[encoded data removed]",
      "text/plain": [
       "<Figure size 1080x360 with 2 Axes>"
      ]
     },
     "metadata": {
      "needs_background": "light"
     },
     "output_type": "display_data"
    }
   ],
   "source": [
    "plt.figure(figsize=(15,5))\n",
    "plt.subplot(121)\n",
    "plt.hist(data[data['default']==0].AGE)\n",
    "plt.title('Распределение возраста\\n среди заемщиков, вернувших кредит')\n",
    "plt.xlabel('Возраст')\n",
    "plt.ylabel('Количество заемщиков')\n",
    "plt.subplot(122)\n",
    "plt.hist(data[data['default']==1].AGE)\n",
    "plt.title('Распределение возраста\\n среди заемщиков, не вернувших кредит')\n",
    "plt.xlabel('Возраст')\n",
    "plt.ylabel('Количество заемщиков')"
   ]
  },
  {
   "cell_type": "markdown",
   "metadata": {},
   "source": [
    "Оба распределения не являются нормальными, поэтому для проверки гипотез о них нужно использовать непараметрические критерии.\n",
    "\n",
    "Сначала посмотрим на выборочные медианы для возраста в этих двух подвыборках."
   ]
  },
  {
   "cell_type": "code",
   "execution_count": 32,
   "metadata": {},
   "outputs": [
    {
     "name": "stdout",
     "output_type": "stream",
     "text": [
      "Выборочная медиана возраста для лиц, не имеющих задолженностей:  34.0\n",
      "Выборочная медиана возраста для лиц, имеющих задолженности:  34.0\n"
     ]
    }
   ],
   "source": [
    "med0=data[data['default']==0].AGE.median()\n",
    "print('Выборочная медиана возраста для лиц, не имеющих задолженностей: ', med0)\n",
    "med1=data[data['default']==1].AGE.median()\n",
    "print('Выборочная медиана возраста для лиц, имеющих задолженности: ', med1)"
   ]
  },
  {
   "cell_type": "markdown",
   "metadata": {},
   "source": [
    "Вычислим точечную оценку разности медианных значений возрастов в данных подвыборках."
   ]
  },
  {
   "cell_type": "code",
   "execution_count": 33,
   "metadata": {},
   "outputs": [
    {
     "name": "stdout",
     "output_type": "stream",
     "text": [
      "Выборочная оценка разности медиан возрастов для лиц без задолженностей и имеющих задолженности: 0.0000\n"
     ]
    }
   ],
   "source": [
    "print('Выборочная оценка разности медиан возрастов для лиц без задолженностей и \\\n",
    "имеющих задолженности: %.4f'%(med0-med1))"
   ]
  },
  {
   "cell_type": "markdown",
   "metadata": {},
   "source": [
    "Построим доверительный интервал для этой разности на основе бутстрапированных выборок."
   ]
  },
  {
   "cell_type": "code",
   "execution_count": 34,
   "metadata": {},
   "outputs": [
    {
     "name": "stdout",
     "output_type": "stream",
     "text": [
      "95% доверительный интервал для разности медиан:[-1.0000, 0.0000]\n"
     ]
    }
   ],
   "source": [
    "median_limit_default0=list(map(np.median, get_bootstrap_samples(data[data['default']==0].AGE.values,1000)))\n",
    "median_limit_default1=list(map(np.median, get_bootstrap_samples(data[data['default']==1].AGE.values,1000)))\n",
    "delta_median_limit=list(map(lambda x: x[0]-x[1], \\\n",
    "                            zip(median_limit_default0, median_limit_default1)))\n",
    "print('95%% доверительный интервал для разности медиан:[%.4f, %.4f]'%stat_intervals(delta_median_limit,0.05))"
   ]
  },
  {
   "cell_type": "markdown",
   "metadata": {},
   "source": [
    "Видим, что доверительный интервал лежит слева от нуля, что говорит о том, что медианный возраст среди лиц, не имеющих задолженностей, с 95% вероятностью меньше, чем среди должников. Однако максимальная по модулю разница составляет 1 год, что не несет практической значимости.\n",
    "\n",
    "Проверим гипотезу о равенстве медианных значений по этим двум подвыборкам с помощью статистического критерия.\n",
    "\n",
    "$H_0$: медианные значения кредитного лимита для этих двух подвыборок равны.\n",
    "\n",
    "$H_1$: не равны.\n",
    "\n",
    "Необходимые подвыборки независимые, поэтому для проверки данной гипотезы будем использовать двухвыборочный критерий знаковых рангов (Манна-Уитни)."
   ]
  },
  {
   "cell_type": "code",
   "execution_count": 35,
   "metadata": {},
   "outputs": [
    {
     "data": {
      "text/plain": [
       "MannwhitneyuResult(statistic=76966879.5, pvalue=0.3725035434898616)"
      ]
     },
     "execution_count": 35,
     "metadata": {},
     "output_type": "execute_result"
    }
   ],
   "source": [
    "stats.mannwhitneyu(data[data['default']==0].AGE,data[data['default']==1].AGE, alternative='two-sided')"
   ]
  },
  {
   "cell_type": "markdown",
   "metadata": {},
   "source": [
    "p-value говорит о том, что нулевая гипотеза не может быть отвергнута в пользу двусторонней альтернативы на уровне значимости 0.05.\n",
    "\n",
    "Так как у нас есть предположение о том, что медиана подвыборки для $default=0$ меньше, то попробуем проверить нулевую гипотезу против односторонней альтернативы:\n",
    "\n",
    "$H_1$: медианный возраст среди вернувших кредит меньше, чем среди должников."
   ]
  },
  {
   "cell_type": "code",
   "execution_count": 36,
   "metadata": {},
   "outputs": [
    {
     "data": {
      "text/plain": [
       "MannwhitneyuResult(statistic=76966879.5, pvalue=0.1862517717449308)"
      ]
     },
     "execution_count": 36,
     "metadata": {},
     "output_type": "execute_result"
    }
   ],
   "source": [
    "stats.mannwhitneyu(data[data['default']==0].AGE,data[data['default']==1].AGE, alternative='less')"
   ]
  },
  {
   "cell_type": "markdown",
   "metadata": {},
   "source": [
    "Однако и в данном случае достигаемый уровень значимость не позволяет отвергнуть нулевую гипотезу на уровне 0.05."
   ]
  }
 ],
 "metadata": {
  "kernelspec": {
   "display_name": "Python 3",
   "language": "python",
   "name": "python3"
  },
  "language_info": {
   "codemirror_mode": {
    "name": "ipython",
    "version": 3
   },
   "file_extension": ".py",
   "mimetype": "text/x-python",
   "name": "python",
   "nbconvert_exporter": "python",
   "pygments_lexer": "ipython3",
   "version": "3.7.1"
  }
 },
 "nbformat": 4,
 "nbformat_minor": 4
}
