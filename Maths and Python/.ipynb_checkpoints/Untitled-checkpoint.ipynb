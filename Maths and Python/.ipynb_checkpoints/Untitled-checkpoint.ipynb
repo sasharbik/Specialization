{
 "cells": [
  {
   "cell_type": "code",
   "execution_count": 18,
   "metadata": {},
   "outputs": [],
   "source": [
    "import numpy as np\n",
    "import scipy\n",
    "import scipy.spatial\n",
    "import re\n",
    "import matplotlib.pyplot as plt"
   ]
  },
  {
   "cell_type": "markdown",
   "metadata": {},
   "source": [
    "# Задание 1.Сходство предложений"
   ]
  },
  {
   "cell_type": "code",
   "execution_count": 3,
   "metadata": {},
   "outputs": [],
   "source": [
    "f=open(\"sentences.txt\", 'r')#создаем файловый объект"
   ]
  },
  {
   "cell_type": "code",
   "execution_count": 4,
   "metadata": {},
   "outputs": [],
   "source": [
    "sentences=f.readlines()#считываем все строки "
   ]
  },
  {
   "cell_type": "code",
   "execution_count": 5,
   "metadata": {},
   "outputs": [],
   "source": [
    "for i in range(len(sentences)):\n",
    "    sentences[i]=sentences[i].lower()"
   ]
  },
  {
   "cell_type": "markdown",
   "metadata": {},
   "source": [
    "Токенизация текста. Словарь __all_words__ включает все слова, содержащиеся в тексте."
   ]
  },
  {
   "cell_type": "code",
   "execution_count": 6,
   "metadata": {},
   "outputs": [],
   "source": [
    "all_words={}\n",
    "for i in range(len(sentences)):\n",
    "    #re.split('\\W+', sentence)#еще один вариант разделения\n",
    "    sentences[i]=re.split(r'[^a-z]',sentences[i])\n",
    "    sentences[i]=list(filter(lambda x: x!='', sentences[i]))\n",
    "    for word in sentences[i]:\n",
    "        if word in all_words.keys():\n",
    "            all_words[word]+=1\n",
    "        else:\n",
    "            all_words.update({word:1})"
   ]
  },
  {
   "cell_type": "markdown",
   "metadata": {},
   "source": [
    "Матрица __matrix__ имеет размерность ($m \\times n$), где $m$ - номер предложения, $n$ - сколько раз слово c данным номером из словаря __all_words__ встречается в данном предложении."
   ]
  },
  {
   "cell_type": "code",
   "execution_count": 7,
   "metadata": {},
   "outputs": [],
   "source": [
    "matrix=np.zeros((len(sentences),len(all_words)))"
   ]
  },
  {
   "cell_type": "code",
   "execution_count": 8,
   "metadata": {},
   "outputs": [],
   "source": [
    "key_words=list(all_words)"
   ]
  },
  {
   "cell_type": "code",
   "execution_count": 9,
   "metadata": {},
   "outputs": [],
   "source": [
    "for i in range(len(sentences)):\n",
    "    for word in sentences[i]:\n",
    "        index=key_words.index(word)\n",
    "        matrix[i][index]+=1"
   ]
  },
  {
   "cell_type": "markdown",
   "metadata": {},
   "source": [
    "Сходство предложений по смыслу определяется с помощью косинусного расстояния. Косинусное расстояние вычисляется с помощью функции __`scipy.spatial.distance.cosine`__. Два наименьших значения выполнения данной функции определяют два наиболее близких по смыслу предложения к первому предложению текста."
   ]
  },
  {
   "cell_type": "code",
   "execution_count": 19,
   "metadata": {},
   "outputs": [],
   "source": [
    "distances={scipy.spatial.distance.cosine(matrix[0],matrix[i]):i for i in range(1,len(matrix))}"
   ]
  },
  {
   "cell_type": "code",
   "execution_count": 20,
   "metadata": {},
   "outputs": [],
   "source": [
    "distances=dict(sorted(distances.items())).values()"
   ]
  },
  {
   "cell_type": "code",
   "execution_count": 21,
   "metadata": {},
   "outputs": [],
   "source": [
    "distances=list(distances)"
   ]
  },
  {
   "cell_type": "code",
   "execution_count": 22,
   "metadata": {},
   "outputs": [
    {
     "data": {
      "text/plain": [
       "[6, 4, 21, 10, 12, 16, 20, 2, 13, 14, 11, 8, 19, 3, 9, 7, 5, 18, 1, 17]"
      ]
     },
     "execution_count": 22,
     "metadata": {},
     "output_type": "execute_result"
    }
   ],
   "source": [
    "distances"
   ]
  },
  {
   "cell_type": "code",
   "execution_count": 23,
   "metadata": {},
   "outputs": [
    {
     "name": "stdout",
     "output_type": "stream",
     "text": [
      "6 4\n"
     ]
    }
   ],
   "source": [
    "print(distances[0],distances[1])"
   ]
  },
  {
   "cell_type": "markdown",
   "metadata": {},
   "source": [
    "# Задание 2. Аппроксимация функции"
   ]
  },
  {
   "cell_type": "markdown",
   "metadata": {},
   "source": [
    "Зависимости, выраженные сложными функциями, приближают с помощью функций из определенного семейства.\n",
    "<br>В данной работе для аппроксимации исходной функции используются многочлены."
   ]
  },
  {
   "cell_type": "code",
   "execution_count": 44,
   "metadata": {},
   "outputs": [],
   "source": [
    "def original_func(x):\n",
    "    return np.sin(x/5)*np.exp(x/10)+5*np.exp(-x/2)"
   ]
  },
  {
   "cell_type": "code",
   "execution_count": 71,
   "metadata": {},
   "outputs": [],
   "source": [
    "#матрица, элементами которой являются x^i, где i=0...n (n - порядок многочлена)\n",
    "def matrix(x,deg):\n",
    "    matrix=[]\n",
    "    for i in range(len(x)):\n",
    "        stroka=[x[i]**j for j in range(deg+1)]\n",
    "        matrix.append(stroka)\n",
    "    return np.array(matrix)"
   ]
  },
  {
   "cell_type": "code",
   "execution_count": 55,
   "metadata": {},
   "outputs": [],
   "source": [
    "#вычисление значений многочлена \n",
    "def approx_func(matrix,coeffs):\n",
    "    return matrix.dot(coeffs)"
   ]
  },
  {
   "cell_type": "markdown",
   "metadata": {},
   "source": [
    "Вычисление коэффициентов многочлена первой степени, совпадающего с исходной функцией в точках $x=1$, $x=15$."
   ]
  },
  {
   "cell_type": "code",
   "execution_count": 70,
   "metadata": {},
   "outputs": [],
   "source": [
    "x=np.array([1,15])\n",
    "b=original_func(x)\n",
    "A=matrix(x,1)\n",
    "coeffs=np.linalg.solve(A,b)"
   ]
  },
  {
   "cell_type": "code",
   "execution_count": 57,
   "metadata": {},
   "outputs": [
    {
     "data": {
      "text/plain": [
       "<matplotlib.legend.Legend at 0x1bd93f00ba8>"
      ]
     },
     "execution_count": 57,
     "metadata": {},
     "output_type": "execute_result"
    },
    {
     "data": {
      "image/png": "[encoded data removed]",
      "text/plain": [
       "<Figure size 432x288 with 1 Axes>"
      ]
     },
     "metadata": {
      "needs_background": "light"
     },
     "output_type": "display_data"
    }
   ],
   "source": [
    "x=np.linspace(0,20,100)\n",
    "y_original=original_func(x)\n",
    "A=matrix(x,1)\n",
    "y_approx=approx_func(A,coeffs)\n",
    "plt.plot(x, y_original, label='Original function')\n",
    "plt.plot(x, y_approx, color='red', label='First degree polynomial')\n",
    "plt.ylabel('$y$')\n",
    "plt.xlabel('$x$')\n",
    "plt.legend()"
   ]
  },
  {
   "cell_type": "markdown",
   "metadata": {},
   "source": [
    "Вычисление коэффициентов многочлена второй степени, совпадающего с исходной функцией в точках $x=1,8,15$."
   ]
  },
  {
   "cell_type": "code",
   "execution_count": 72,
   "metadata": {},
   "outputs": [],
   "source": [
    "x=np.array([1,8,15])\n",
    "b=original_func(x)\n",
    "A=matrix(x,2)\n",
    "coeffs=np.linalg.solve(A,b)"
   ]
  },
  {
   "cell_type": "code",
   "execution_count": 73,
   "metadata": {},
   "outputs": [
    {
     "data": {
      "text/plain": [
       "<matplotlib.legend.Legend at 0x1bd93f7d2b0>"
      ]
     },
     "execution_count": 73,
     "metadata": {},
     "output_type": "execute_result"
    },
    {
     "data": {
      "image/png": "[encoded data removed]",
      "text/plain": [
       "<Figure size 432x288 with 1 Axes>"
      ]
     },
     "metadata": {
      "needs_background": "light"
     },
     "output_type": "display_data"
    }
   ],
   "source": [
    "x=np.linspace(0,20,100)\n",
    "y_original=original_func(x)\n",
    "A=matrix(x,2)\n",
    "y_approx=approx_func(A,coeffs)\n",
    "plt.plot(x, y_original, label='Original function')\n",
    "plt.plot(x, y_approx, color='red', label='Second degree polynomial')\n",
    "plt.ylabel('$y$')\n",
    "plt.xlabel('$x$')\n",
    "plt.legend()"
   ]
  },
  {
   "cell_type": "markdown",
   "metadata": {},
   "source": [
    "Вычисление коэффициентов многочлена третьей степени, совпадающего с исходной функцией в точках $x=1,4,10,15$."
   ]
  },
  {
   "cell_type": "code",
   "execution_count": 75,
   "metadata": {},
   "outputs": [
    {
     "data": {
      "text/plain": [
       "<matplotlib.legend.Legend at 0x1bd9408c3c8>"
      ]
     },
     "execution_count": 75,
     "metadata": {},
     "output_type": "execute_result"
    },
    {
     "data": {
      "image/png": "[encoded data removed]",
      "text/plain": [
       "<Figure size 432x288 with 1 Axes>"
      ]
     },
     "metadata": {
      "needs_background": "light"
     },
     "output_type": "display_data"
    }
   ],
   "source": [
    "x=np.array([1,4,10,15])\n",
    "b=original_func(x)\n",
    "A=matrix(x,3)\n",
    "coeffs=np.linalg.solve(A,b)\n",
    "x=np.linspace(0,20,100)\n",
    "y_original=original_func(x)\n",
    "A=matrix(x,3)\n",
    "y_approx=approx_func(A,coeffs)\n",
    "plt.plot(x, y_original, label='Original function')\n",
    "plt.plot(x, y_approx, color='red', label='Third degree polynomial')\n",
    "plt.ylabel('$y$')\n",
    "plt.xlabel('$x$')\n",
    "plt.legend()"
   ]
  },
  {
   "cell_type": "code",
   "execution_count": 78,
   "metadata": {},
   "outputs": [
    {
     "name": "stdout",
     "output_type": "stream",
     "text": [
      "[ 4.36 -1.3   0.19 -0.01]\n"
     ]
    }
   ],
   "source": [
    "print(np.round(coeffs,2))"
   ]
  }
 ],
 "metadata": {
  "kernelspec": {
   "display_name": "Python 3",
   "language": "python",
   "name": "python3"
  },
  "language_info": {
   "codemirror_mode": {
    "name": "ipython",
    "version": 3
   },
   "file_extension": ".py",
   "mimetype": "text/x-python",
   "name": "python",
   "nbconvert_exporter": "python",
   "pygments_lexer": "ipython3",
   "version": "3.7.1"
  }
 },
 "nbformat": 4,
 "nbformat_minor": 4
}
