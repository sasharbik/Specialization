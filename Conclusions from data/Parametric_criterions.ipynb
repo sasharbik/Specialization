{
 "cells": [
  {
   "cell_type": "markdown",
   "metadata": {},
   "source": [
    "# Параметрические критерии"
   ]
  },
  {
   "cell_type": "markdown",
   "metadata": {},
   "source": [
    "## Одновыборочный критерий Стьюдента"
   ]
  },
  {
   "cell_type": "code",
   "execution_count": 1,
   "metadata": {},
   "outputs": [],
   "source": [
    "import numpy as np\n",
    "import pandas as pd\n",
    "import sklearn\n",
    "\n",
    "from scipy import stats\n",
    "from statsmodels.stats.weightstats import _tconfint_generic, _zconfint_generic\n",
    "from statsmodels.stats.proportion import *\n",
    "\n",
    "from sklearn import model_selection, linear_model, ensemble, metrics"
   ]
  },
  {
   "cell_type": "markdown",
   "metadata": {},
   "source": [
    "### Задача 1"
   ]
  },
  {
   "cell_type": "markdown",
   "metadata": {},
   "source": [
    "Средний вес детей при рождении составляет 3.3 кг, у женщин, живущих за чертой бедности - 2.8 кг.<br><br>\n",
    "25 женщин, живущих за чертой бедности, участвовали в экспериментальной программе по ведению беременности. Средний вес их детей при рождении составил 3075 г. со стандартным отклонением 500 г.<br><br>\n",
    "Необходимо понять, эффективна ли программа."
   ]
  },
  {
   "cell_type": "markdown",
   "metadata": {},
   "source": [
    "Нулевая гипотеза $H_0$: программа не эффективна, то есть $\\mu=\\mu_0=2800$.<br><br>\n",
    "В данном случае стандартное отклонение оценено по выборке, поэтому нужно для проверки гипотезы нужно применить одновыборочный t-критерий Стьюдента."
   ]
  },
  {
   "cell_type": "markdown",
   "metadata": {},
   "source": [
    "Пусть альтернативная гипотеза $H_1$ будет двусторонней: $\\mu\\neq\\mu_0$.<br><br>\n",
    "Тогда достигаемый уровень значимости вычисляется по следующей формуле:\n",
    "<br>\n",
    "<div align='center'> $p=P(x<t)+P(x>t)=F_{St(n-1)}(t)+(1-F_{St(n-1)}(t))=2*(1-F_{St(n-1)}(|t|))$. </div>"
   ]
  },
  {
   "cell_type": "code",
   "execution_count": 2,
   "metadata": {},
   "outputs": [
    {
     "name": "stdout",
     "output_type": "stream",
     "text": [
      "Достигаемый уровень значимости: 0.011147829812680365\n"
     ]
    }
   ],
   "source": [
    "n=25\n",
    "X_mean=3075\n",
    "mu_0=2800\n",
    "S=500\n",
    "t=(X_mean-mu_0)/(S/np.sqrt(n))\n",
    "print('Достигаемый уровень значимости:', 2*(1-stats.t.cdf(t, df=n-1)))"
   ]
  },
  {
   "cell_type": "markdown",
   "metadata": {},
   "source": [
    "Полученное p-value меньше, чем 0.05, следовательно $H_0$ отвергается в пользу $H_1$ - эксперимент оказывает эффект на вес новорожденных."
   ]
  },
  {
   "cell_type": "code",
   "execution_count": 5,
   "metadata": {},
   "outputs": [
    {
     "name": "stdout",
     "output_type": "stream",
     "text": [
      "95% доверительный интервал для прироста [68.6101, 481.3899]:\n"
     ]
    }
   ],
   "source": [
    "edges=_tconfint_generic(X_mean-mu_0,S/np.sqrt(n),n-1, 0.05, 'two-sided')\n",
    "print('95% доверительный интервал для прироста [{:.4f}, {:.4f}]:'.format(edges[0],edges[1]))"
   ]
  },
  {
   "cell_type": "markdown",
   "metadata": {},
   "source": [
    "Пусть альтернативная гипотеза $H_1$ будет односторонней: $\\mu>\\mu_0$.<br><br>\n",
    "Тогда достигаемый уровень значимости вычисляется по следующей формуле:\n",
    "<br>\n",
    "<div align='center'> $p=P(x>t)=1-F_{St(n-1)}(t)$. </div>"
   ]
  },
  {
   "cell_type": "code",
   "execution_count": 6,
   "metadata": {},
   "outputs": [
    {
     "name": "stdout",
     "output_type": "stream",
     "text": [
      "Достигаемый уровень значимости: 0.005573914906340183\n"
     ]
    }
   ],
   "source": [
    "print('Достигаемый уровень значимости:', 1-stats.t.cdf(t, df=n-1))"
   ]
  },
  {
   "cell_type": "markdown",
   "metadata": {},
   "source": [
    "Полученное p-value в данном случае также меньше, чем 0.05, следовательно $H_0$ отвергается в пользу $H_1$ - эксперимент оказывает эффект на вес новорожденных в большую сторону."
   ]
  },
  {
   "cell_type": "code",
   "execution_count": 7,
   "metadata": {},
   "outputs": [
    {
     "name": "stdout",
     "output_type": "stream",
     "text": [
      "95% доверительный интервал для прироста [103.9118, inf]:\n"
     ]
    }
   ],
   "source": [
    "edges=_tconfint_generic(X_mean,S/np.sqrt(n),n-1, 0.05, 'larger')\n",
    "print('95% доверительный интервал для прироста [{:.4f}, {:.4f}]:'.format(edges[0]-mu_0,edges[1]-mu_0))"
   ]
  },
  {
   "cell_type": "markdown",
   "metadata": {},
   "source": [
    "### Задача 2"
   ]
  },
  {
   "cell_type": "markdown",
   "metadata": {},
   "source": [
    "Уровень кальция в крови здоровых молодых женщин равен в среднем 9.5 милиграммам на децилитр и имеет характерное стандартное отклонение 0.4 мг/дл. В сельской больнице Гватемалы для 160 здоровых беременных женщин при первом обращении для ведения беременности был измерен уровень кальция; среднее значение составило 9.57 мг/дл. Можно ли утверждать, что средний уровень кальция в этой популяции отличается от 9.5?"
   ]
  },
  {
   "cell_type": "markdown",
   "metadata": {},
   "source": [
    "$H_0$: средний уровень кальция в гватемальской популяции не отличается от 9.5 мг/дл.<br>\n",
    "$H_1$: отличается."
   ]
  },
  {
   "cell_type": "markdown",
   "metadata": {},
   "source": [
    "Так как в данном случае известно стандартное отклонение, то в качестве критерия будет использоваться z-критерий Стьюдента."
   ]
  },
  {
   "cell_type": "code",
   "execution_count": 8,
   "metadata": {},
   "outputs": [
    {
     "name": "stdout",
     "output_type": "stream",
     "text": [
      "Достигаемый уровень значимости: 0.0269\n"
     ]
    }
   ],
   "source": [
    "n=160\n",
    "X_mean=9.57\n",
    "mu_0=9.5\n",
    "sigma=0.4\n",
    "z=(X_mean-mu_0)/(sigma/np.sqrt(n))\n",
    "print('Достигаемый уровень значимости: %.4f'%(2*(1-stats.norm.cdf(z))))"
   ]
  },
  {
   "cell_type": "markdown",
   "metadata": {},
   "source": [
    "_p-value_ меньше уровня значимости 0.05, следовательно, нулевая гипотеза может быть отвергнута в пользу альтернативной."
   ]
  },
  {
   "cell_type": "code",
   "execution_count": 11,
   "metadata": {},
   "outputs": [
    {
     "name": "stdout",
     "output_type": "stream",
     "text": [
      "95% доверительный интервал для прироста [0.0080, 0.1320]:\n"
     ]
    }
   ],
   "source": [
    "edges=_zconfint_generic(X_mean,sigma/np.sqrt(n),0.05, 'two-sided')\n",
    "print('95% доверительный интервал для прироста [{:.4f}, {:.4f}]:'.format(edges[0]-mu_0,edges[1]-mu_0))"
   ]
  },
  {
   "cell_type": "markdown",
   "metadata": {},
   "source": [
    "Видим, что в 95 процентах случаев прирост уровня кальция оказывается значительно меньше стандартного отклонения. Поэтому можно сделать вывод, что такое различие кальция в крови является статистически значимым, но не практически."
   ]
  },
  {
   "cell_type": "markdown",
   "metadata": {},
   "source": [
    "### Задача 3"
   ]
  },
  {
   "cell_type": "markdown",
   "metadata": {},
   "source": [
    "Ежегодно более 200000 людей по всему миру сдают стандартизированный экзамен GMAT при поступлении на программы MBA. Средний результат составляет 525 баллов, стандартное отклонение — 100 баллов.<br>\n",
    "Сто студентов закончили специальные подготовительные курсы и сдали экзамен. Средний полученный ими балл — 541.4. Проверьте гипотезу о неэффективности программы против односторонней альтернативы о том, что программа работает. "
   ]
  },
  {
   "cell_type": "markdown",
   "metadata": {},
   "source": [
    "$H_0$: подготовительные курсы не эффективны - средний балл после них не отличается от 525 ($\\overline X=525$).<br>\n",
    "$H_1$: средний балл после подготовительных курсов повышается ($\\overline X>525$)."
   ]
  },
  {
   "cell_type": "markdown",
   "metadata": {},
   "source": [
    "Так как в данном случае известно стандартное отклонение, то в качестве критерия будет использоваться z-критерий Стьюдента."
   ]
  },
  {
   "cell_type": "code",
   "execution_count": 12,
   "metadata": {},
   "outputs": [
    {
     "name": "stdout",
     "output_type": "stream",
     "text": [
      "Достигаемый уровень значимости: 0.0505\n"
     ]
    }
   ],
   "source": [
    "n=100\n",
    "X_mean=541.4\n",
    "mu_0=525\n",
    "sigma=100\n",
    "z=(X_mean-mu_0)/(sigma/np.sqrt(n))\n",
    "print('Достигаемый уровень значимости: %.4f'%(1-stats.norm.cdf(z)))"
   ]
  },
  {
   "cell_type": "markdown",
   "metadata": {},
   "source": [
    "На уровне значимости 0.05 нулевая гипотеза не может быть отвергнута, значит, по этим данным курсы нельзя считать эффективными."
   ]
  },
  {
   "cell_type": "markdown",
   "metadata": {},
   "source": [
    "## Двухвыборочный критерий Стьюдента для связанных выборок"
   ]
  },
  {
   "cell_type": "markdown",
   "metadata": {},
   "source": [
    "### Задача 4"
   ]
  },
  {
   "cell_type": "markdown",
   "metadata": {},
   "source": [
    "Имеются данные о стоимости и размерах 53940 бриллиантов.<br><br>\n",
    "Необходимо обучить две регрессионные модели: линейную и случайный лес, а затем сравнить их качество. "
   ]
  },
  {
   "cell_type": "code",
   "execution_count": 13,
   "metadata": {},
   "outputs": [],
   "source": [
    "data=pd.read_csv('data/diamonds.txt', header=0, sep='\\t')"
   ]
  },
  {
   "cell_type": "code",
   "execution_count": 14,
   "metadata": {},
   "outputs": [
    {
     "data": {
      "text/html": [
       "<div>\n",
       "<style scoped>\n",
       "    .dataframe tbody tr th:only-of-type {\n",
       "        vertical-align: middle;\n",
       "    }\n",
       "\n",
       "    .dataframe tbody tr th {\n",
       "        vertical-align: top;\n",
       "    }\n",
       "\n",
       "    .dataframe thead th {\n",
       "        text-align: right;\n",
       "    }\n",
       "</style>\n",
       "<table border=\"1\" class=\"dataframe\">\n",
       "  <thead>\n",
       "    <tr style=\"text-align: right;\">\n",
       "      <th></th>\n",
       "      <th>carat</th>\n",
       "      <th>depth</th>\n",
       "      <th>table</th>\n",
       "      <th>price</th>\n",
       "      <th>x</th>\n",
       "      <th>y</th>\n",
       "      <th>z</th>\n",
       "    </tr>\n",
       "  </thead>\n",
       "  <tbody>\n",
       "    <tr>\n",
       "      <th>0</th>\n",
       "      <td>0.23</td>\n",
       "      <td>61.5</td>\n",
       "      <td>55.0</td>\n",
       "      <td>326</td>\n",
       "      <td>3.95</td>\n",
       "      <td>3.98</td>\n",
       "      <td>2.43</td>\n",
       "    </tr>\n",
       "    <tr>\n",
       "      <th>1</th>\n",
       "      <td>0.21</td>\n",
       "      <td>59.8</td>\n",
       "      <td>61.0</td>\n",
       "      <td>326</td>\n",
       "      <td>3.89</td>\n",
       "      <td>3.84</td>\n",
       "      <td>2.31</td>\n",
       "    </tr>\n",
       "    <tr>\n",
       "      <th>2</th>\n",
       "      <td>0.23</td>\n",
       "      <td>56.9</td>\n",
       "      <td>65.0</td>\n",
       "      <td>327</td>\n",
       "      <td>4.05</td>\n",
       "      <td>4.07</td>\n",
       "      <td>2.31</td>\n",
       "    </tr>\n",
       "    <tr>\n",
       "      <th>3</th>\n",
       "      <td>0.29</td>\n",
       "      <td>62.4</td>\n",
       "      <td>58.0</td>\n",
       "      <td>334</td>\n",
       "      <td>4.20</td>\n",
       "      <td>4.23</td>\n",
       "      <td>2.63</td>\n",
       "    </tr>\n",
       "    <tr>\n",
       "      <th>4</th>\n",
       "      <td>0.31</td>\n",
       "      <td>63.3</td>\n",
       "      <td>58.0</td>\n",
       "      <td>335</td>\n",
       "      <td>4.34</td>\n",
       "      <td>4.35</td>\n",
       "      <td>2.75</td>\n",
       "    </tr>\n",
       "  </tbody>\n",
       "</table>\n",
       "</div>"
      ],
      "text/plain": [
       "   carat  depth  table  price     x     y     z\n",
       "0   0.23   61.5   55.0    326  3.95  3.98  2.43\n",
       "1   0.21   59.8   61.0    326  3.89  3.84  2.31\n",
       "2   0.23   56.9   65.0    327  4.05  4.07  2.31\n",
       "3   0.29   62.4   58.0    334  4.20  4.23  2.63\n",
       "4   0.31   63.3   58.0    335  4.34  4.35  2.75"
      ]
     },
     "execution_count": 14,
     "metadata": {},
     "output_type": "execute_result"
    }
   ],
   "source": [
    "data.head()"
   ]
  },
  {
   "cell_type": "code",
   "execution_count": 15,
   "metadata": {},
   "outputs": [],
   "source": [
    "y=data['price'].values\n",
    "X=data.drop('price', axis=1)"
   ]
  },
  {
   "cell_type": "code",
   "execution_count": 16,
   "metadata": {},
   "outputs": [],
   "source": [
    "X_train, X_test, y_train, y_test=model_selection.train_test_split(X,y,test_size=0.25,random_state=1)"
   ]
  },
  {
   "cell_type": "markdown",
   "metadata": {},
   "source": [
    "Создадим две регрессионные модели: линейную и случайный лес."
   ]
  },
  {
   "cell_type": "code",
   "execution_count": 17,
   "metadata": {},
   "outputs": [],
   "source": [
    "linregr=linear_model.LinearRegression()\n",
    "linregr.fit(X_train, y_train)\n",
    "predictions_linregr=linregr.predict(X_test)\n",
    "errors_linregr=np.fabs(y_test-predictions_linregr)"
   ]
  },
  {
   "cell_type": "code",
   "execution_count": 18,
   "metadata": {},
   "outputs": [],
   "source": [
    "forest=ensemble.RandomForestRegressor(n_estimators=10,random_state=1)\n",
    "forest.fit(X_train, y_train)\n",
    "predictions_forest=forest.predict(X_test)\n",
    "errors_forest=np.fabs(y_test-predictions_forest)"
   ]
  },
  {
   "cell_type": "code",
   "execution_count": 19,
   "metadata": {},
   "outputs": [
    {
     "data": {
      "text/plain": [
       "890.3764004285612"
      ]
     },
     "execution_count": 19,
     "metadata": {},
     "output_type": "execute_result"
    }
   ],
   "source": [
    "errors_linregr.mean()"
   ]
  },
  {
   "cell_type": "code",
   "execution_count": 20,
   "metadata": {},
   "outputs": [
    {
     "data": {
      "text/plain": [
       "802.9205172724115"
      ]
     },
     "execution_count": 20,
     "metadata": {},
     "output_type": "execute_result"
    }
   ],
   "source": [
    "errors_forest.mean()"
   ]
  },
  {
   "cell_type": "markdown",
   "metadata": {},
   "source": [
    "Точечная оценка средних по массивам ошибок говорит о том, что случайный лес лучше справляется с задачей предсказания цены. "
   ]
  },
  {
   "cell_type": "markdown",
   "metadata": {},
   "source": [
    "Для более достоверного результата произведем оценку качества предсказаний с помощью двухвыборочного критерия Стьюдента."
   ]
  },
  {
   "cell_type": "markdown",
   "metadata": {},
   "source": [
    "Получается, что перед нами есть две связанные выборки. Для вычисления соответсвующего критерия модуль _stats_ библиотеки  _scipy_ предоставляет функциюкцию _ttest_rel()_."
   ]
  },
  {
   "cell_type": "markdown",
   "metadata": {},
   "source": [
    "$H_0$: средние значения ошибок построенных моделей не отличаются (качество моделей одинаковое).<br>\n",
    "$H_1$: качество моделей разное."
   ]
  },
  {
   "cell_type": "code",
   "execution_count": 21,
   "metadata": {},
   "outputs": [
    {
     "data": {
      "text/plain": [
       "Ttest_relResult(statistic=13.017729783878696, pvalue=1.655174575138418e-38)"
      ]
     },
     "execution_count": 21,
     "metadata": {},
     "output_type": "execute_result"
    }
   ],
   "source": [
    "stats.ttest_rel(errors_linregr, errors_forest)"
   ]
  },
  {
   "cell_type": "markdown",
   "metadata": {},
   "source": [
    "Достигаемый уровень значимости получился очень маленьким, поэтому нулевая гипотеза может быть смело отвергнута на уровне значимости $\\alpha=0.05$."
   ]
  },
  {
   "cell_type": "markdown",
   "metadata": {},
   "source": [
    "Чтобы дополнительно удостовериться в полученном выводе, произведем интервальную оценку разности средних значений абсолютных отклонений двух моделей."
   ]
  },
  {
   "cell_type": "code",
   "execution_count": 22,
   "metadata": {},
   "outputs": [
    {
     "name": "stdout",
     "output_type": "stream",
     "text": [
      "95%  доверительный интервал для разности средних абсолютных отклонений: [13.230427, 44.252558]\n"
     ]
    }
   ],
   "source": [
    "errors_linregr=y_test-predictions_linregr\n",
    "errors_forest=y_test-predictions_forest\n",
    "print(\"95%%  доверительный интервал для разности средних абсолютных отклонений: [%f, %f]\" \\\n",
    "      % DescrStatsW(errors_linregr - errors_forest).tconfint_mean())"
   ]
  },
  {
   "cell_type": "markdown",
   "metadata": {},
   "source": [
    "Доверительный интервал не содержит ноль - средняя ошибка линейной модели действительно больше, чем средняя ошибка случайного леса."
   ]
  },
  {
   "cell_type": "markdown",
   "metadata": {},
   "source": [
    "## Z-критерий для доли"
   ]
  },
  {
   "cell_type": "markdown",
   "metadata": {},
   "source": [
    "### Задача 5"
   ]
  },
  {
   "cell_type": "markdown",
   "metadata": {},
   "source": [
    "На одном из этапов выбора присяжных было отобрано 300 кандидатов, среди которых оказалось только 90 женщин. Был ли отбор беспристрастным? "
   ]
  },
  {
   "cell_type": "markdown",
   "metadata": {},
   "source": [
    "$H_0$: отбор был беспристрастным, то есть вероятности женщин и мужчин стать присяжными одинаковы и равны $p_0=\\frac{1}{2}$.\n",
    "<br>\n",
    "$H_1$: отбор не был беспристрастным."
   ]
  },
  {
   "cell_type": "markdown",
   "metadata": {},
   "source": [
    "Перед нами выборка, подчиняющаяся биноминальному закону распределения. Точечная оценка вероятности женщин попасть в группу присяжных равна отношению числа женщин к числу всех кандидатов:\n",
    "$$\\hat{p}=\\frac{90}{300}$$\n",
    "Так как выборка биноминальная, то величину $\\hat{p}$ можно интерпретировать как точечную оценку матожидания. Матожидание, с которым мы будем сравнивать данное значение, равно $p_0$. Дисперсия: $\\sqrt{\\frac{p_0*(1-p_0)}{n}}$. Таким образом, мы будем вычислять z-статистику на основе критерия множетилей Лагранжа: $$z=\\frac{\\hat p - p_0}{\\sqrt{\\frac{p_0*(1-p_0)}{n}}}$$"
   ]
  },
  {
   "cell_type": "code",
   "execution_count": 14,
   "metadata": {},
   "outputs": [
    {
     "name": "stdout",
     "output_type": "stream",
     "text": [
      "z-критерий: -6.9282, p-value: 4.26215e-12\n"
     ]
    }
   ],
   "source": [
    "n=300\n",
    "n_women=90\n",
    "p=n_women/n\n",
    "p_0=0.5\n",
    "std=np.sqrt(p_0*(1-p_0)/n)\n",
    "z=(p-p_0)/std\n",
    "print('z-критерий: %.4f, p-value: %g'%(z,2*(1-stats.norm.cdf(np.abs(z)))))"
   ]
  },
  {
   "cell_type": "markdown",
   "metadata": {},
   "source": [
    "Достигаемый уровень значимости очень мал, что позволяет уверенно отклонить нулевую гипотезу."
   ]
  },
  {
   "cell_type": "markdown",
   "metadata": {},
   "source": [
    "Существует библиотечная функция _proportiions_ztest_, которая использует критерий Вальда для вычисления z-статистки, который является менее точным по сравнению с критерием множителей Лагранжа. "
   ]
  },
  {
   "cell_type": "code",
   "execution_count": 16,
   "metadata": {},
   "outputs": [
    {
     "name": "stdout",
     "output_type": "stream",
     "text": [
      "z-критерий: -7.5593, p-value: 4.05277e-14\n"
     ]
    }
   ],
   "source": [
    "z,p=proportions_ztest(n_women,n,value=0.5)\n",
    "print('z-критерий: %.4f, p-value: %g'%(z,p))"
   ]
  },
  {
   "cell_type": "code",
   "execution_count": 24,
   "metadata": {},
   "outputs": [
    {
     "name": "stdout",
     "output_type": "stream",
     "text": [
      "95% доверительный интервал для истинного значения вероятности женщин оказаться в числе присяжных: [0.2481, 0.3519].\n"
     ]
    }
   ],
   "source": [
    "print('95%% доверительный интервал для истинного значения вероятности женщин оказаться в числе присяжных: [%.4f, %.4f].'\\\n",
    "      %proportion_confint(n_women, n, alpha=0.05, method='normal'))"
   ]
  },
  {
   "cell_type": "markdown",
   "metadata": {},
   "source": [
    "## Z-критерий для двух связанных выборок"
   ]
  },
  {
   "cell_type": "markdown",
   "metadata": {},
   "source": [
    "### Задача 6"
   ]
  },
  {
   "cell_type": "markdown",
   "metadata": {},
   "source": [
    "Имеются данные измерений двухсот швейцарских тысячефранковых банкнот, бывших в обращении в первой половине XX века. Сто из банкнот были настоящими, и сто — поддельными. В файле находятся данные по измеренным признакам.<br>\n",
    "Необходимо составить два классификатора, один из которых будет принимать решение на основе признаков $X_1$, $X_2$, $X_3$, а другой - на основе $X_4$, $X_5$, $X_6$. Затем определить, различаются ли доли правильных ответов этих моделей, и если да, то как."
   ]
  },
  {
   "cell_type": "code",
   "execution_count": 25,
   "metadata": {},
   "outputs": [
    {
     "data": {
      "text/html": [
       "<div>\n",
       "<style scoped>\n",
       "    .dataframe tbody tr th:only-of-type {\n",
       "        vertical-align: middle;\n",
       "    }\n",
       "\n",
       "    .dataframe tbody tr th {\n",
       "        vertical-align: top;\n",
       "    }\n",
       "\n",
       "    .dataframe thead th {\n",
       "        text-align: right;\n",
       "    }\n",
       "</style>\n",
       "<table border=\"1\" class=\"dataframe\">\n",
       "  <thead>\n",
       "    <tr style=\"text-align: right;\">\n",
       "      <th></th>\n",
       "      <th>X1</th>\n",
       "      <th>X2</th>\n",
       "      <th>X3</th>\n",
       "      <th>X4</th>\n",
       "      <th>X5</th>\n",
       "      <th>X6</th>\n",
       "      <th>real</th>\n",
       "    </tr>\n",
       "  </thead>\n",
       "  <tbody>\n",
       "    <tr>\n",
       "      <th>0</th>\n",
       "      <td>214.8</td>\n",
       "      <td>131.0</td>\n",
       "      <td>131.1</td>\n",
       "      <td>9.0</td>\n",
       "      <td>9.7</td>\n",
       "      <td>141.0</td>\n",
       "      <td>1</td>\n",
       "    </tr>\n",
       "    <tr>\n",
       "      <th>1</th>\n",
       "      <td>214.6</td>\n",
       "      <td>129.7</td>\n",
       "      <td>129.7</td>\n",
       "      <td>8.1</td>\n",
       "      <td>9.5</td>\n",
       "      <td>141.7</td>\n",
       "      <td>1</td>\n",
       "    </tr>\n",
       "    <tr>\n",
       "      <th>2</th>\n",
       "      <td>214.8</td>\n",
       "      <td>129.7</td>\n",
       "      <td>129.7</td>\n",
       "      <td>8.7</td>\n",
       "      <td>9.6</td>\n",
       "      <td>142.2</td>\n",
       "      <td>1</td>\n",
       "    </tr>\n",
       "    <tr>\n",
       "      <th>3</th>\n",
       "      <td>214.8</td>\n",
       "      <td>129.7</td>\n",
       "      <td>129.6</td>\n",
       "      <td>7.5</td>\n",
       "      <td>10.4</td>\n",
       "      <td>142.0</td>\n",
       "      <td>1</td>\n",
       "    </tr>\n",
       "    <tr>\n",
       "      <th>4</th>\n",
       "      <td>215.0</td>\n",
       "      <td>129.6</td>\n",
       "      <td>129.7</td>\n",
       "      <td>10.4</td>\n",
       "      <td>7.7</td>\n",
       "      <td>141.8</td>\n",
       "      <td>1</td>\n",
       "    </tr>\n",
       "  </tbody>\n",
       "</table>\n",
       "</div>"
      ],
      "text/plain": [
       "      X1     X2     X3    X4    X5     X6  real\n",
       "0  214.8  131.0  131.1   9.0   9.7  141.0     1\n",
       "1  214.6  129.7  129.7   8.1   9.5  141.7     1\n",
       "2  214.8  129.7  129.7   8.7   9.6  142.2     1\n",
       "3  214.8  129.7  129.6   7.5  10.4  142.0     1\n",
       "4  215.0  129.6  129.7  10.4   7.7  141.8     1"
      ]
     },
     "execution_count": 25,
     "metadata": {},
     "output_type": "execute_result"
    }
   ],
   "source": [
    "data=pd.read_csv('data/banknotes.txt', header=0, sep='\\t')\n",
    "data.head()"
   ]
  },
  {
   "cell_type": "code",
   "execution_count": 26,
   "metadata": {},
   "outputs": [],
   "source": [
    "y=data.real.values\n",
    "X=data.drop('real',axis=1)"
   ]
  },
  {
   "cell_type": "code",
   "execution_count": 27,
   "metadata": {},
   "outputs": [],
   "source": [
    "X_train, X_test, y_train, y_test=model_selection.train_test_split(X, y, test_size=50, random_state=1)"
   ]
  },
  {
   "cell_type": "code",
   "execution_count": 83,
   "metadata": {},
   "outputs": [],
   "source": [
    "model1=linear_model.LogisticRegression(multi_class='ovr', n_jobs=1, solver='liblinear').fit(X_train[['X1','X2','X3']],y_train)\n",
    "predictions1=model1.predict(X_test[['X1','X2','X3']])\n",
    "model2=linear_model.LogisticRegression(multi_class='ovr', n_jobs=1, solver='liblinear').fit(X_train[['X4','X5','X6']],y_train)\n",
    "predictions2=model2.predict(X_test[['X4','X5','X6']])"
   ]
  },
  {
   "cell_type": "code",
   "execution_count": 84,
   "metadata": {},
   "outputs": [
    {
     "name": "stdout",
     "output_type": "stream",
     "text": [
      "accuracy первой модели: 0.800000\n",
      "accuracy второй модели: 0.980000\n"
     ]
    }
   ],
   "source": [
    "p1=metrics.accuracy_score(y_test, predictions1)\n",
    "p2=metrics.accuracy_score(y_test, predictions2)\n",
    "print('accuracy первой модели: %f'%p1)\n",
    "print('accuracy второй модели: %f'%p2)"
   ]
  },
  {
   "cell_type": "markdown",
   "metadata": {},
   "source": [
    "Точечные оценки говорят, что вторая модель является более эффективной, однако проверим данный вывод на статистическом уровне."
   ]
  },
  {
   "cell_type": "markdown",
   "metadata": {},
   "source": [
    "$H_0$: доли ошибочных ответов, полученные с помощью двух моделей, не отличаются.<br>\n",
    "$H_1$: отличаются."
   ]
  },
  {
   "cell_type": "markdown",
   "metadata": {},
   "source": [
    "Предсказания выполняются для одних и тех же объектов, поэтому выборки _predictions_ являются связанными."
   ]
  },
  {
   "cell_type": "code",
   "execution_count": 85,
   "metadata": {},
   "outputs": [
    {
     "data": {
      "text/plain": [
       "array([0, 0, 0, 0, 0, 0, 0, 0, 0, 0, 0, 0, 0, 0, 1, 0, 0, 0, 0, 0, 0, 0,\n",
       "       0, 0, 0, 0, 0, 0, 0, 0, 0, 0, 0, 0, 0, 0, 0, 0, 0, 0, 0, 0, 0, 0,\n",
       "       0, 0, 0, 0, 0, 0], dtype=int64)"
      ]
     },
     "execution_count": 85,
     "metadata": {},
     "output_type": "execute_result"
    }
   ],
   "source": [
    "errors1=np.abs(predictions1-y_test)\n",
    "errors2=np.abs(predictions2-y_test)\n",
    "errors2"
   ]
  },
  {
   "cell_type": "code",
   "execution_count": 113,
   "metadata": {},
   "outputs": [],
   "source": [
    "def zstat_prop_dif_rel(sample1, sample2):\n",
    "    sample = list(zip(sample1, sample2))\n",
    "    n=len(sample1)\n",
    "    a = sum([1 if (x[0] == 1 and x[1] == 0) else 0 for x in sample])\n",
    "    b = sum([1 if (x[0] == 0 and x[1] == 1) else 0 for x in sample])\n",
    "    z=(a-b)/np.sqrt(a+b-((a-b)**2)/n)\n",
    "    return z\n"
   ]
  },
  {
   "cell_type": "code",
   "execution_count": 114,
   "metadata": {},
   "outputs": [],
   "source": [
    "def pvalue(stat,h1):\n",
    "    if h1=='two-sided':\n",
    "        return 2*(1-stats.norm.cdf(np.fabs(stat)))\n",
    "    elif h1=='greater':\n",
    "        return 1-stats.norm.cdf(stat)\n",
    "    elif h1=='less':\n",
    "        return stats.norm.cdf(stat)"
   ]
  },
  {
   "cell_type": "code",
   "execution_count": 116,
   "metadata": {},
   "outputs": [
    {
     "name": "stdout",
     "output_type": "stream",
     "text": [
      "Достигаемый уровень значимости для разности долей: 0.003297\n"
     ]
    }
   ],
   "source": [
    "print('Достигаемый уровень значимости для разности долей: %f'\\\n",
    "      %pvalue(zstat_prop_dif_rel(errors1, errors2),'two-sided'))"
   ]
  },
  {
   "cell_type": "markdown",
   "metadata": {},
   "source": [
    "Видно, что на уровне значимости 0.05 нулевая гипотеза может быть отвергнута в пользу двусторонней альтернативы."
   ]
  },
  {
   "cell_type": "code",
   "execution_count": 117,
   "metadata": {},
   "outputs": [
    {
     "name": "stdout",
     "output_type": "stream",
     "text": [
      "Достигаемый уровень значимости для разности долей: 0.001648\n"
     ]
    }
   ],
   "source": [
    "print('Достигаемый уровень значимости для разности долей: %f'\\\n",
    "      %pvalue(zstat_prop_dif_rel(errors1, errors2),'greater'))"
   ]
  },
  {
   "cell_type": "markdown",
   "metadata": {},
   "source": [
    "При этом, p-value для односторонней альтернативы получается еще меньше, что дает нам еще большую уверенность в лучшей работе второй модели."
   ]
  },
  {
   "cell_type": "code",
   "execution_count": 140,
   "metadata": {},
   "outputs": [],
   "source": [
    "def prop_diff_confint(sample1, sample2,alpha):\n",
    "    z=stats.norm.ppf(1-alpha/2)\n",
    "    n=len(sample1)\n",
    "    sample = list(zip(sample1, sample2))\n",
    "    a = sum([1 if (x[0] == 1 and x[1] == 0) else 0 for x in sample])\n",
    "    b = sum([1 if (x[0] == 0 and x[1] == 1) else 0 for x in sample])\n",
    "    upper=(a-b)/n+z*np.sqrt((a+b)/n**2-((a-b)**2)/n**3)\n",
    "    lower=(a-b)/n-z*np.sqrt((a+b)/n**2-((a-b)**2)/(n**3))\n",
    "    return (lower,upper)"
   ]
  },
  {
   "cell_type": "code",
   "execution_count": 141,
   "metadata": {},
   "outputs": [
    {
     "name": "stdout",
     "output_type": "stream",
     "text": [
      "95% доверительный интервал для разности долей: [0.0599, 0.3001].\n"
     ]
    }
   ],
   "source": [
    "print('95%% доверительный интервал для разности долей: [%.4f, %.4f].'%prop_diff_confint(errors1, errors2, 0.05))"
   ]
  },
  {
   "cell_type": "markdown",
   "metadata": {},
   "source": [
    "Интервал лежит справа от нуля, что позволяет сказать, что доля ошибок первого классификатора больше доли ошибок второго."
   ]
  }
 ],
 "metadata": {
  "kernelspec": {
   "display_name": "Python 3",
   "language": "python",
   "name": "python3"
  },
  "language_info": {
   "codemirror_mode": {
    "name": "ipython",
    "version": 3
   },
   "file_extension": ".py",
   "mimetype": "text/x-python",
   "name": "python",
   "nbconvert_exporter": "python",
   "pygments_lexer": "ipython3",
   "version": "3.7.1"
  }
 },
 "nbformat": 4,
 "nbformat_minor": 4
}
