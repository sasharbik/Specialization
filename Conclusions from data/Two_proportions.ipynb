{
 "cells": [
  {
   "cell_type": "markdown",
   "metadata": {},
   "source": [
    "# Оценки двух долей"
   ]
  },
  {
   "cell_type": "markdown",
   "metadata": {},
   "source": [
    "В пятилетнем рандомизированном исследовании Гарвардской медицинской школы 11037 испытуемых через день принимали аспирин, а ещё 11034 — плацебо. Исследование было слепым, то есть, испытуемые не знали, что именно они принимают.\n",
    "<br><br>\n",
    "За 5 лет инфаркт случился у 104 испытуемых, принимавших аспирин, и у 189 принимавших плацебо.\n",
    "<br><br>\n",
    "Необходимо оценить, насколько вероятность инфаркта снижается при приёме аспирина."
   ]
  },
  {
   "cell_type": "code",
   "execution_count": 69,
   "metadata": {},
   "outputs": [],
   "source": [
    "import numpy as np\n",
    "import scipy\n",
    "from scipy import stats"
   ]
  },
  {
   "cell_type": "code",
   "execution_count": 70,
   "metadata": {},
   "outputs": [],
   "source": [
    "n_aspirin=11037\n",
    "n_placebo=11034\n",
    "p_aspirin=104/n_aspirin\n",
    "p_placebo=189/n_placebo"
   ]
  },
  {
   "cell_type": "code",
   "execution_count": 55,
   "metadata": {},
   "outputs": [
    {
     "name": "stdout",
     "output_type": "stream",
     "text": [
      "Точечная оценка вероятности возникновения инфаркта при приеме аспирина: 0.0094\n",
      "Точечная оценка вероятности возникновения инфаркта при приеме плацебо: 0.0171\n"
     ]
    }
   ],
   "source": [
    "print(\"Точечная оценка вероятности возникновения инфаркта при приеме аспирина: %.4f\"%p_aspirin)\n",
    "print(\"Точечная оценка вероятности возникновения инфаркта при приеме плацебо: %.4f\"%p_placebo)"
   ]
  },
  {
   "cell_type": "markdown",
   "metadata": {},
   "source": [
    "## Разность двух долей"
   ]
  },
  {
   "cell_type": "code",
   "execution_count": 84,
   "metadata": {},
   "outputs": [
    {
     "name": "stdout",
     "output_type": "stream",
     "text": [
      "При использовании точечных оценок вероятностей получается,что риск возникновения инфаркта при приеме аспирина снижается на:\n",
      "0.0077*100 процента.\n"
     ]
    }
   ],
   "source": [
    "print('При использовании точечных оценок вероятностей получается,что риск возникновения \\\n",
    "инфаркта при приеме аспирина снижается на:\\n%.4f*100 процента.'%(p_placebo-p_aspirin))"
   ]
  },
  {
   "cell_type": "markdown",
   "metadata": {},
   "source": [
    "Так как точечные оценки не всегда точны, построим интервальную оценку разности полученных вероятностей."
   ]
  },
  {
   "cell_type": "markdown",
   "metadata": {},
   "source": [
    "Выборки независимые, поэтому будем использовать следующие формулы:<br>\n",
    "  \n",
    "|<div style=\"width:50px\"></div> |<div style=\"width:100px\">$X_1$</div>|<div style=\"width:100px\">$X_2$</div>| \n",
    "|:-:|:-:|:-:|\n",
    "|1|a|b|\n",
    "|0|c|d|\n",
    "|$\\sum$ | $n_1$| $n_2$ |\n",
    "  \n",
    "$$ \\hat{p}_1 = \\frac{a}{n_1}$$\n",
    "\n",
    "$$ \\hat{p}_2 = \\frac{b}{n_2}$$\n",
    "\n",
    "\n",
    "$$\\text{Доверительный интервал для }p_1 - p_2\\colon \\;\\; \\hat{p}_1 - \\hat{p}_2 \\pm z_{1-\\frac{\\alpha}{2}}\\sqrt{\\frac{\\hat{p}_1(1 - \\hat{p}_1)}{n_1} + \\frac{\\hat{p}_2(1 - \\hat{p}_2)}{n_2}}$$"
   ]
  },
  {
   "cell_type": "code",
   "execution_count": 72,
   "metadata": {},
   "outputs": [],
   "source": [
    "def proportions_diff_confint(p1,p2,n1,n2,alpha):\n",
    "    z=stats.norm.ppf(1-alpha/2)\n",
    "    upper_lim=p1-p2+z*(np.sqrt(p1*(1-p1)/n1+p2*(1-p2)/n2))\n",
    "    lower_lim=p1-p2-z*(np.sqrt(p1*(1-p1)/n1+p2*(1-p2)/n2))\n",
    "    return (lower_lim, upper_lim)"
   ]
  },
  {
   "cell_type": "code",
   "execution_count": 78,
   "metadata": {},
   "outputs": [
    {
     "name": "stdout",
     "output_type": "stream",
     "text": [
      "95-процентный доверительный интервал для разности вероятностей возникновения инфарктов при приеме аспирина и плацебо: \n",
      "[0.0047, 0.0107]\n"
     ]
    }
   ],
   "source": [
    "print('95-процентный доверительный интервал для разности вероятностей возникновения \\\n",
    "инфарктов при приеме аспирина и плацебо: \\n[%.4f, %.4f]'%proportions_diff_confint(p_placebo,p_aspirin,n_placebo,n_aspirin,0.05))"
   ]
  },
  {
   "cell_type": "markdown",
   "metadata": {},
   "source": [
    "## Отношение шансов"
   ]
  },
  {
   "cell_type": "markdown",
   "metadata": {},
   "source": [
    "Теперь рассчитаем шансы инфаркта в каждой из контрольных групп. Для бернуллиевских случайных величин $X\\sim Ber(p)$ их вычисляют как $\\frac{p}{1-p}$. Соответственно, для оценки шансов по выборкам нужно вместо $p$ подставить $\\hat{p}$."
   ]
  },
  {
   "cell_type": "code",
   "execution_count": 86,
   "metadata": {},
   "outputs": [
    {
     "name": "stdout",
     "output_type": "stream",
     "text": [
      "Шанс возникновения инфаркта при приеме аспирина снижается в 1.8321 раз\n"
     ]
    }
   ],
   "source": [
    "chance_aspirin=p_aspirin/(1-p_aspirin)\n",
    "chance_placebo=p_placebo/(1-p_placebo)\n",
    "print('Шанс возникновения инфаркта при приеме аспирина снижается в %.4f раз.'%(chance_placebo/chance_aspirin))"
   ]
  },
  {
   "cell_type": "markdown",
   "metadata": {},
   "source": [
    "Теперь оценим отношение шансов интервально. Снова будем находить 95% доверительный интервал. Для этого будем использовать бутстрапированные выборки."
   ]
  },
  {
   "cell_type": "code",
   "execution_count": 102,
   "metadata": {},
   "outputs": [],
   "source": [
    "effect_aspirin=np.hstack((np.repeat(1,104),np.repeat(0,n_aspirin-104)))\n",
    "effect_placebo=np.hstack((np.repeat(1,189),np.repeat(0,n_placebo-189)))"
   ]
  },
  {
   "cell_type": "code",
   "execution_count": 104,
   "metadata": {},
   "outputs": [],
   "source": [
    "def bootstrap_samples(data, n_samples):\n",
    "    indices=np.random.randint(0,len(data),(n_samples, len(data)))\n",
    "    samples=data[indices]\n",
    "    return samples"
   ]
  },
  {
   "cell_type": "code",
   "execution_count": 144,
   "metadata": {},
   "outputs": [],
   "source": [
    "np.random.seed(0)\n",
    "chances_aspirin=list(map(lambda x:x.mean()/(1-x.mean()),bootstrap_samples(effect_aspirin,1000)))\n",
    "chances_placebo=list(map(lambda x:x.mean()/(1-x.mean()),bootstrap_samples(effect_placebo,1000)))"
   ]
  },
  {
   "cell_type": "code",
   "execution_count": 145,
   "metadata": {},
   "outputs": [
    {
     "data": {
      "text/plain": [
       "1000"
      ]
     },
     "execution_count": 145,
     "metadata": {},
     "output_type": "execute_result"
    }
   ],
   "source": [
    "len(chances_placebo)"
   ]
  },
  {
   "cell_type": "code",
   "execution_count": 146,
   "metadata": {},
   "outputs": [],
   "source": [
    "def chance_confint(data1, data2, alpha):\n",
    "    data=[data1[i]/data2[i] for i in range(len(data1))]\n",
    "    limits=np.percentile(data, [100*alpha/2, 100*(1-alpha/2)])\n",
    "    return (limits[0],limits[1])"
   ]
  },
  {
   "cell_type": "code",
   "execution_count": 147,
   "metadata": {},
   "outputs": [
    {
     "name": "stdout",
     "output_type": "stream",
     "text": [
      "95-процентный доверительный интервал для отношения шанса возникновения инфаркта при приеме плацебо к шансу при приеме аспирина: \n",
      "[1.4442, 2.3432]\n"
     ]
    }
   ],
   "source": [
    "print('95-процентный доверительный интервал для отношения шанса возникновения \\\n",
    "инфаркта при приеме плацебо к шансу \\\n",
    "при приеме аспирина: \\n[%.4f, %.4f]'%chance_confint(chances_placebo,chances_aspirin,0.05))"
   ]
  }
 ],
 "metadata": {
  "kernelspec": {
   "display_name": "Python 3",
   "language": "python",
   "name": "python3"
  },
  "language_info": {
   "codemirror_mode": {
    "name": "ipython",
    "version": 3
   },
   "file_extension": ".py",
   "mimetype": "text/x-python",
   "name": "python",
   "nbconvert_exporter": "python",
   "pygments_lexer": "ipython3",
   "version": "3.7.1"
  }
 },
 "nbformat": 4,
 "nbformat_minor": 4
}
