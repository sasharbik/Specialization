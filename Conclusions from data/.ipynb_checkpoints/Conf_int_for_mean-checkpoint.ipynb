{
 "cells": [
  {
   "cell_type": "markdown",
   "metadata": {},
   "source": [
    "# Доверительный интервал для среднего"
   ]
  },
  {
   "cell_type": "markdown",
   "metadata": {},
   "source": [
    "Для 61 большого города в Англии и Уэльсе известны средняя годовая смертность на 100000 населения (по данным 1958–1964) и концентрация кальция в питьевой воде (в частях на миллион). Чем выше концентрация кальция, тем жёстче вода. Города дополнительно поделены на северные и южные.\n",
    "<br><br>\n",
    "Необхдимо построить 95% доверительный интервал для средней годовой смертности в больших городах."
   ]
  },
  {
   "cell_type": "code",
   "execution_count": 41,
   "metadata": {},
   "outputs": [],
   "source": [
    "import pandas as pd\n",
    "import numpy as np\n",
    "from statsmodels.stats.weightstats import _tconfint_generic"
   ]
  },
  {
   "cell_type": "code",
   "execution_count": 52,
   "metadata": {},
   "outputs": [],
   "source": [
    "data=pd.read_csv('data\\water.txt', sep='\\t')\n",
    "n=100000"
   ]
  },
  {
   "cell_type": "code",
   "execution_count": 6,
   "metadata": {},
   "outputs": [
    {
     "data": {
      "text/html": [
       "<div>\n",
       "<style scoped>\n",
       "    .dataframe tbody tr th:only-of-type {\n",
       "        vertical-align: middle;\n",
       "    }\n",
       "\n",
       "    .dataframe tbody tr th {\n",
       "        vertical-align: top;\n",
       "    }\n",
       "\n",
       "    .dataframe thead th {\n",
       "        text-align: right;\n",
       "    }\n",
       "</style>\n",
       "<table border=\"1\" class=\"dataframe\">\n",
       "  <thead>\n",
       "    <tr style=\"text-align: right;\">\n",
       "      <th></th>\n",
       "      <th>location</th>\n",
       "      <th>town</th>\n",
       "      <th>mortality</th>\n",
       "      <th>hardness</th>\n",
       "    </tr>\n",
       "  </thead>\n",
       "  <tbody>\n",
       "    <tr>\n",
       "      <th>0</th>\n",
       "      <td>South</td>\n",
       "      <td>Bath</td>\n",
       "      <td>1247</td>\n",
       "      <td>105</td>\n",
       "    </tr>\n",
       "    <tr>\n",
       "      <th>1</th>\n",
       "      <td>North</td>\n",
       "      <td>Birkenhead</td>\n",
       "      <td>1668</td>\n",
       "      <td>17</td>\n",
       "    </tr>\n",
       "    <tr>\n",
       "      <th>2</th>\n",
       "      <td>South</td>\n",
       "      <td>Birmingham</td>\n",
       "      <td>1466</td>\n",
       "      <td>5</td>\n",
       "    </tr>\n",
       "    <tr>\n",
       "      <th>3</th>\n",
       "      <td>North</td>\n",
       "      <td>Blackburn</td>\n",
       "      <td>1800</td>\n",
       "      <td>14</td>\n",
       "    </tr>\n",
       "    <tr>\n",
       "      <th>4</th>\n",
       "      <td>North</td>\n",
       "      <td>Blackpool</td>\n",
       "      <td>1609</td>\n",
       "      <td>18</td>\n",
       "    </tr>\n",
       "  </tbody>\n",
       "</table>\n",
       "</div>"
      ],
      "text/plain": [
       "  location        town  mortality  hardness\n",
       "0    South        Bath       1247       105\n",
       "1    North  Birkenhead       1668        17\n",
       "2    South  Birmingham       1466         5\n",
       "3    North   Blackburn       1800        14\n",
       "4    North   Blackpool       1609        18"
      ]
     },
     "execution_count": 6,
     "metadata": {},
     "output_type": "execute_result"
    }
   ],
   "source": [
    "data.head()"
   ]
  },
  {
   "cell_type": "markdown",
   "metadata": {},
   "source": [
    "Так как математическое ожидание и дисперсия вычисляются эмпирически по выборке, то для построения доверительного интервала нужно использовать функцию __tconfint_generic_."
   ]
  },
  {
   "cell_type": "code",
   "execution_count": 42,
   "metadata": {},
   "outputs": [],
   "source": [
    "sample_mean=data.mortality.mean()\n",
    "sample_std=data.mortality.std(ddof=1)/np.sqrt(data.shape[0])\n",
    "edges=_tconfint_generic(sample_mean,sample_std,data.shape[0]-1,0.05,'two-sided')"
   ]
  },
  {
   "cell_type": "code",
   "execution_count": 43,
   "metadata": {},
   "outputs": [
    {
     "name": "stdout",
     "output_type": "stream",
     "text": [
      "95-процентный доверительный интервал для среднегодовой смертности: [1476.0833,1572.2117]\n"
     ]
    }
   ],
   "source": [
    "print('95-процентный доверительный интервал для среднегодовой смертности: [%.4f,%.4f]'%edges)"
   ]
  },
  {
   "cell_type": "markdown",
   "metadata": {},
   "source": [
    "Теперь построим 95% доверительный интервал для среднегодовой смертности по южным городам."
   ]
  },
  {
   "cell_type": "code",
   "execution_count": 44,
   "metadata": {},
   "outputs": [],
   "source": [
    "south_mean=data[data.location=='South'].mortality.mean()\n",
    "south_std=data[data.location=='South'].mortality.std(ddof=1)/np.sqrt(data[data.location=='South'].shape[0])\n",
    "south_edges=_tconfint_generic(south_mean,south_std,data[data.location=='South'].shape[0]-1,0.05,'two-sided')"
   ]
  },
  {
   "cell_type": "code",
   "execution_count": 45,
   "metadata": {},
   "outputs": [
    {
     "name": "stdout",
     "output_type": "stream",
     "text": [
      "95-процентный доверительный интервал для среднегодовой смертности по южным городам: [1320.1517,1433.4636]\n"
     ]
    }
   ],
   "source": [
    "print('95-процентный доверительный интервал для среднегодовой смертности по южным городам: [%.4f,%.4f]'%south_edges)"
   ]
  },
  {
   "cell_type": "markdown",
   "metadata": {},
   "source": [
    "Теперь проведем анализ для северных городов."
   ]
  },
  {
   "cell_type": "code",
   "execution_count": 46,
   "metadata": {},
   "outputs": [],
   "source": [
    "north_mean=data[data.location=='North'].mortality.mean()\n",
    "north_std=data[data.location=='North'].mortality.std(ddof=1)/np.sqrt(data[data.location=='North'].shape[0])\n",
    "north_edges=_tconfint_generic(north_mean,north_std,data[data.location=='North'].shape[0]-1,0.05,'two-sided')"
   ]
  },
  {
   "cell_type": "code",
   "execution_count": 47,
   "metadata": {},
   "outputs": [
    {
     "name": "stdout",
     "output_type": "stream",
     "text": [
      "95-процентный доверительный интервал для среднегодовой смертности по северным городам: [1586.5605,1680.6395]\n"
     ]
    }
   ],
   "source": [
    "print('95-процентный доверительный интервал для среднегодовой смертности по северным городам: [%.4f,%.4f]'%north_edges)"
   ]
  },
  {
   "cell_type": "markdown",
   "metadata": {},
   "source": [
    "Как видно по результатам, интервалы для южных и северных городов не пересекаются, что позволяет утверждать, что среднегодовая смертность на севере выше, чем на юге."
   ]
  },
  {
   "cell_type": "markdown",
   "metadata": {},
   "source": [
    "Проверим, пересекаются ли 95% интервалы для средней жесткости воды по северным и южным городам."
   ]
  },
  {
   "cell_type": "code",
   "execution_count": 48,
   "metadata": {},
   "outputs": [
    {
     "name": "stdout",
     "output_type": "stream",
     "text": [
      "95-процентный доверительный интервал для средней жесткости воды по южным городам: [53.4672,86.0713]\n"
     ]
    }
   ],
   "source": [
    "south_water_mean=data[data.location=='South'].hardness.mean()\n",
    "south_water_std=data[data.location=='South'].hardness.std(ddof=1)/np.sqrt(data[data.location=='South'].shape[0])\n",
    "south_water_edges=_tconfint_generic(south_water_mean,south_water_std,data[data.location=='South'].shape[0]-1,0.05,'two-sided')\n",
    "print('95-процентный доверительный интервал для средней жесткости воды по южным городам: [%.4f,%.4f]'%south_water_edges)"
   ]
  },
  {
   "cell_type": "code",
   "execution_count": 49,
   "metadata": {},
   "outputs": [
    {
     "name": "stdout",
     "output_type": "stream",
     "text": [
      "95-процентный доверительный интервал для средней жесткости воды по северным городам: [21.4225,39.3775]\n"
     ]
    }
   ],
   "source": [
    "north_water_mean=data[data.location=='North'].hardness.mean()\n",
    "north_water_std=data[data.location=='North'].hardness.std(ddof=1)/np.sqrt(data[data.location=='North'].shape[0])\n",
    "north_water_edges=_tconfint_generic(north_water_mean,north_water_std,data[data.location=='North'].shape[0]-1,0.05,'two-sided')\n",
    "print('95-процентный доверительный интервал для средней жесткости воды по северным городам: [%.4f,%.4f]'%north_water_edges)"
   ]
  }
 ],
 "metadata": {
  "kernelspec": {
   "display_name": "Python 3",
   "language": "python",
   "name": "python3"
  },
  "language_info": {
   "codemirror_mode": {
    "name": "ipython",
    "version": 3
   },
   "file_extension": ".py",
   "mimetype": "text/x-python",
   "name": "python",
   "nbconvert_exporter": "python",
   "pygments_lexer": "ipython3",
   "version": "3.7.1"
  }
 },
 "nbformat": 4,
 "nbformat_minor": 4
}
