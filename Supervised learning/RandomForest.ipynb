{
 "cells": [
  {
   "cell_type": "code",
   "execution_count": 19,
   "metadata": {},
   "outputs": [],
   "source": [
    "import numpy as np\n",
    "import pandas as pd\n",
    "import matplotlib.pyplot as plt\n",
    "from sklearn import datasets, tree, ensemble\n",
    "from sklearn.model_selection import cross_val_score"
   ]
  },
  {
   "cell_type": "code",
   "execution_count": 2,
   "metadata": {},
   "outputs": [],
   "source": [
    "digits=datasets.load_digits()\n",
    "X=digits.data\n",
    "y=digits.target"
   ]
  },
  {
   "cell_type": "code",
   "execution_count": 3,
   "metadata": {},
   "outputs": [
    {
     "data": {
      "text/plain": [
       "\"\\ndf=pd.DataFrame(X)\\ndf.columns=digits.feature_names\\ndf['target']=digits.target\\ndf.head()\\n\""
      ]
     },
     "execution_count": 3,
     "metadata": {},
     "output_type": "execute_result"
    }
   ],
   "source": [
    "#преобразование в DataFrame\n",
    "'''\n",
    "df=pd.DataFrame(X)\n",
    "df.columns=digits.feature_names\n",
    "df['target']=digits.target\n",
    "df.head()\n",
    "'''"
   ]
  },
  {
   "cell_type": "markdown",
   "metadata": {},
   "source": [
    "1. Создадим классификатор на основе решающего дерева и оценим его метрику на разных разбиениях. "
   ]
  },
  {
   "cell_type": "code",
   "execution_count": 4,
   "metadata": {},
   "outputs": [],
   "source": [
    "clf=tree.DecisionTreeClassifier()"
   ]
  },
  {
   "cell_type": "code",
   "execution_count": 5,
   "metadata": {},
   "outputs": [],
   "source": [
    "scores1=cross_val_score(clf,X,y,cv=10)"
   ]
  },
  {
   "cell_type": "code",
   "execution_count": 6,
   "metadata": {},
   "outputs": [
    {
     "name": "stdout",
     "output_type": "stream",
     "text": [
      "Значения accuracy для каждого разбиения: [0.75555556 0.86111111 0.83333333 0.77777778 0.77777778 0.89444444\n",
      " 0.89444444 0.81005587 0.80446927 0.7877095 ]\n",
      "Среднее значение accuracy: 0.8196679081315953\n"
     ]
    }
   ],
   "source": [
    "def write_answer_1(score):\n",
    "    with open(\"ans1.txt\", \"w\") as fout:\n",
    "        fout.write(str(score))\n",
    "        \n",
    "print('Значения accuracy для каждого разбиения:',scores1)\n",
    "print('Среднее значение accuracy:',scores1.mean())\n",
    "write_answer_1(scores1.mean())"
   ]
  },
  {
   "cell_type": "markdown",
   "metadata": {},
   "source": [
    "2. Создадим классификатор с помощью бэггинга, количество решающих деревьев возьмем равным 100."
   ]
  },
  {
   "cell_type": "code",
   "execution_count": 7,
   "metadata": {},
   "outputs": [],
   "source": [
    "bag=ensemble.BaggingClassifier(clf,n_estimators=100)"
   ]
  },
  {
   "cell_type": "code",
   "execution_count": 8,
   "metadata": {},
   "outputs": [],
   "source": [
    "scores2=cross_val_score(bag,X,y,cv=10)"
   ]
  },
  {
   "cell_type": "code",
   "execution_count": 9,
   "metadata": {},
   "outputs": [
    {
     "name": "stdout",
     "output_type": "stream",
     "text": [
      "Значения accuracy для каждого разбиения: [0.86111111 0.95555556 0.91111111 0.94444444 0.91666667 0.98333333\n",
      " 0.95555556 0.91061453 0.87709497 0.91620112]\n",
      "Среднее значение accuracy: 0.9231688392302917\n"
     ]
    }
   ],
   "source": [
    "def write_answer_2(score):\n",
    "    with open(\"ans2.txt\", \"w\") as fout:\n",
    "        fout.write(str(score))\n",
    "        \n",
    "print('Значения accuracy для каждого разбиения:',scores2)\n",
    "print('Среднее значение accuracy:',scores2.mean())\n",
    "write_answer_2(scores2.mean())"
   ]
  },
  {
   "cell_type": "markdown",
   "metadata": {},
   "source": [
    "Видно, что качество классификации улучшилось."
   ]
  },
  {
   "cell_type": "markdown",
   "metadata": {},
   "source": [
    "3. Теперь к бэггингу добавим еще один подход для улучшения качества классификации - метод случайных подпространств. Данный метод сокращает признаковое пространство наших объектов, в данном случае было принято сократить количество всех признаков _d_ до $\\sqrt{d}$."
   ]
  },
  {
   "cell_type": "code",
   "execution_count": 10,
   "metadata": {},
   "outputs": [],
   "source": [
    "scores3=cross_val_score(ensemble.BaggingClassifier(clf,n_estimators=100, max_features=int(np.sqrt(X.shape[1]))),X,y,cv=10)"
   ]
  },
  {
   "cell_type": "code",
   "execution_count": 11,
   "metadata": {},
   "outputs": [
    {
     "name": "stdout",
     "output_type": "stream",
     "text": [
      "Значения accuracy для каждого разбиения: [0.89444444 0.95555556 0.93888889 0.89444444 0.93333333 0.95\n",
      " 0.96111111 0.98324022 0.91620112 0.92178771]\n",
      "Среднее значение accuracy: 0.9349006828057107\n"
     ]
    }
   ],
   "source": [
    "def write_answer_3(score):\n",
    "    with open(\"ans3.txt\", \"w\") as fout:\n",
    "        fout.write(str(score))\n",
    "        \n",
    "print('Значения accuracy для каждого разбиения:',scores3)\n",
    "print('Среднее значение accuracy:',scores3.mean())\n",
    "write_answer_3(scores3.mean())"
   ]
  },
  {
   "cell_type": "markdown",
   "metadata": {},
   "source": [
    "4. Теперь построим такую композицию деревьев, что количество признаков будет рандомизированно выбираться не просто для построения каждого отдельного дерева, а для каждой вершины каждого отдельного дерева. "
   ]
  },
  {
   "cell_type": "code",
   "execution_count": 12,
   "metadata": {},
   "outputs": [],
   "source": [
    "clf=tree.DecisionTreeClassifier(max_features='sqrt')\n",
    "bag=ensemble.BaggingClassifier(clf,n_estimators=100)"
   ]
  },
  {
   "cell_type": "code",
   "execution_count": 13,
   "metadata": {},
   "outputs": [],
   "source": [
    "scores4=cross_val_score(bag,X,y,cv=10)"
   ]
  },
  {
   "cell_type": "code",
   "execution_count": 14,
   "metadata": {},
   "outputs": [
    {
     "name": "stdout",
     "output_type": "stream",
     "text": [
      "Значения accuracy для каждого разбиения: [0.90555556 0.97777778 0.94444444 0.93888889 0.96111111 0.95\n",
      " 0.97222222 0.96089385 0.92178771 0.94413408]\n",
      "Среднее значение accuracy: 0.94768156424581\n"
     ]
    }
   ],
   "source": [
    "def write_answer_4(score):\n",
    "    with open(\"ans4.txt\", \"w\") as fout:\n",
    "        fout.write(str(score))\n",
    "        \n",
    "print('Значения accuracy для каждого разбиения:',scores4)\n",
    "print('Среднее значение accuracy:',scores4.mean())\n",
    "write_answer_4(scores4.mean())"
   ]
  },
  {
   "cell_type": "markdown",
   "metadata": {},
   "source": [
    "5. Построим случайный лес в явном виде."
   ]
  },
  {
   "cell_type": "code",
   "execution_count": 15,
   "metadata": {},
   "outputs": [],
   "source": [
    "rand_forest=ensemble.RandomForestClassifier(n_estimators=100, max_features='sqrt')"
   ]
  },
  {
   "cell_type": "code",
   "execution_count": 16,
   "metadata": {},
   "outputs": [],
   "source": [
    "scores5=cross_val_score(rand_forest,X,y,cv=10)"
   ]
  },
  {
   "cell_type": "code",
   "execution_count": 32,
   "metadata": {},
   "outputs": [
    {
     "name": "stdout",
     "output_type": "stream",
     "text": [
      "Значения accuracy для каждого разбиения: [0.92222222 0.97222222 0.93888889 0.92777778 0.95555556 0.96666667\n",
      " 0.96111111 0.96089385 0.91620112 0.94413408]\n",
      "Среднее значение accuracy: 0.9465673494723774\n"
     ]
    }
   ],
   "source": [
    "print('Значения accuracy для каждого разбиения:',scores5)\n",
    "print('Среднее значение accuracy:',scores5.mean())"
   ]
  },
  {
   "cell_type": "markdown",
   "metadata": {},
   "source": [
    "Как видим, качество классификации в таком случае идентично значению, полученному на предыдущем шаге. Это подтверждает правильность выполнения задания, так как и в 4, и в 5 пунктах строился по сути случайный лес, просто с использованием разнoго функционала. "
   ]
  },
  {
   "cell_type": "markdown",
   "metadata": {},
   "source": [
    "Исследуем качество классификации в зависимости от количества деревьев."
   ]
  },
  {
   "cell_type": "code",
   "execution_count": 25,
   "metadata": {},
   "outputs": [],
   "source": [
    "def plot_scores(param, score,param_title,title):\n",
    "    fig=plt.figure(figsize=(8,5))\n",
    "    plt.plot(param,score,marker='o')\n",
    "    plt.ylabel('Mean accuracy')\n",
    "    plt.xlabel(param_title)\n",
    "    plt.title(title)"
   ]
  },
  {
   "cell_type": "code",
   "execution_count": 27,
   "metadata": {},
   "outputs": [],
   "source": [
    "n_trees=np.arange(10,400,10)\n",
    "scores_n_trees=[]\n",
    "for n in n_trees:\n",
    "    rand_forest=ensemble.RandomForestClassifier(n_estimators=n, max_features='sqrt')\n",
    "    scores_n_trees.append(cross_val_score(rand_forest,X,y,cv=5).mean())"
   ]
  },
  {
   "cell_type": "code",
   "execution_count": 28,
   "metadata": {},
   "outputs": [
    {
     "data": {
      "image/png": "[encoded data removed]",
      "text/plain": [
       "<Figure size 576x360 with 1 Axes>"
      ]
     },
     "metadata": {
      "needs_background": "light"
     },
     "output_type": "display_data"
    }
   ],
   "source": [
    "plot_scores(n_trees,scores_n_trees,'Trees amount', 'Mean accuracy dependency on trees amount')"
   ]
  },
  {
   "cell_type": "markdown",
   "metadata": {},
   "source": [
    "По графику видно, что увеличение количества деревьев не приводит к переобучению: график колеблется около значения 0.94."
   ]
  },
  {
   "cell_type": "markdown",
   "metadata": {},
   "source": [
    "Теперь исследуем зависимость качества классификации от количества признаков, используемых при построении каждой вершины каждого дерева."
   ]
  },
  {
   "cell_type": "code",
   "execution_count": 38,
   "metadata": {},
   "outputs": [],
   "source": [
    "n_features=np.arange(int(0.1*X.shape[1]),X.shape[1],1)\n",
    "scores_n_features=[]\n",
    "for n in n_features:\n",
    "    rand_forest=ensemble.RandomForestClassifier(n_estimators=100, max_features=n)\n",
    "    scores_n_features.append(cross_val_score(rand_forest,X,y,cv=5).mean())"
   ]
  },
  {
   "cell_type": "code",
   "execution_count": 39,
   "metadata": {},
   "outputs": [
    {
     "data": {
      "image/png": "[encoded data removed]",
      "text/plain": [
       "<Figure size 576x360 with 1 Axes>"
      ]
     },
     "metadata": {
      "needs_background": "light"
     },
     "output_type": "display_data"
    }
   ],
   "source": [
    "plot_scores(n_features,scores_n_features,'Features amount', 'Mean accuracy dependency on features amount')"
   ]
  },
  {
   "cell_type": "markdown",
   "metadata": {},
   "source": [
    "Как и ожидалось, при большом числе признаков наш классификатор работает хуже, чем на маленьких подпространствах. Это объясняется тем, что при меньшем числе признаков деревья получаются более разнообразными, что позволяет их композиции давать лучший результат."
   ]
  },
  {
   "cell_type": "markdown",
   "metadata": {},
   "source": [
    "И посмотрим на то, как влияет на качество классификации максимально возможная глубина деревьев."
   ]
  },
  {
   "cell_type": "code",
   "execution_count": 40,
   "metadata": {},
   "outputs": [],
   "source": [
    "depth=np.arange(1,20,1)\n",
    "scores_depth=[]\n",
    "for n in depth:\n",
    "    rand_forest=ensemble.RandomForestClassifier(n_estimators=100, max_features='sqrt', max_depth=n)\n",
    "    scores_depth.append(cross_val_score(rand_forest,X,y,cv=5).mean())"
   ]
  },
  {
   "cell_type": "code",
   "execution_count": 41,
   "metadata": {},
   "outputs": [
    {
     "data": {
      "image/png": "[encoded data removed]",
      "text/plain": [
       "<Figure size 576x360 with 1 Axes>"
      ]
     },
     "metadata": {
      "needs_background": "light"
     },
     "output_type": "display_data"
    }
   ],
   "source": [
    "plot_scores(depth,scores_depth,'Depth', 'Mean accuracy dependency on depth')"
   ]
  },
  {
   "cell_type": "code",
   "execution_count": 44,
   "metadata": {},
   "outputs": [],
   "source": [
    "def write_answer_5():\n",
    "    with open(\"ans5.txt\", \"w\") as fout:\n",
    "        fout.write(\" \".join([str(2), str(3), str(4), str(7)]))  \n",
    "write_answer_5()"
   ]
  }
 ],
 "metadata": {
  "kernelspec": {
   "display_name": "Python 3",
   "language": "python",
   "name": "python3"
  },
  "language_info": {
   "codemirror_mode": {
    "name": "ipython",
    "version": 3
   },
   "file_extension": ".py",
   "mimetype": "text/x-python",
   "name": "python",
   "nbconvert_exporter": "python",
   "pygments_lexer": "ipython3",
   "version": "3.7.1"
  }
 },
 "nbformat": 4,
 "nbformat_minor": 4
}
